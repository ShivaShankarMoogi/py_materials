{
 "cells": [
  {
   "cell_type": "markdown",
   "metadata": {},
   "source": [
    "<center>\n",
    "<table>\n",
    "  <tr>\n",
    "    <td><img src=\"http://www.nasa.gov/sites/all/themes/custom/nasatwo/images/nasa-logo.svg\" width=\"100\"/> </td>\n",
    "     <td><img src=\"https://github.com/astg606/py_materials/blob/master/logos/ASTG_logo.png?raw=true\" width=\"80\"/> </td>\n",
    "     <td> <img src=\"https://www.nccs.nasa.gov/sites/default/files/NCCS_Logo_0.png\" width=\"130\"/> </td>\n",
    "      <td><img src=\"https://cdn.uconnectlabs.com/wp-content/uploads/sites/123/2021/08/OME-featured.png?v=14172\" width=\"150\"/> </td>\n",
    "    </tr>\n",
    "</table>\n",
    "</center>\n",
    "\n",
    "        \n",
    "<center>\n",
    "<h1><font color= \"blue\" size=\"+3\">ASTG Python Courses</font></h1>\n",
    "</center>\n",
    "\n",
    "---\n",
    "\n",
    "<center><h1>\n",
    "    <font color=\"red\">MIT Momentum: Introduction to Python</font>  \n",
    "</h1></center>"
   ]
  },
  {
   "cell_type": "markdown",
   "metadata": {},
   "source": [
    "## What Will be Covered\n",
    "\n",
    "- [Primitive Data Types](https://www.codesansar.com/python-programming/fundamental-or-primitive-data-types.htm) (Integer, Float, Boolean, String)\n",
    "- [Advanced Data Structures](https://thomas-cokelaer.info/tutorials/python/data_structures.html) (List, Tuple, Dictionary, Set)\n",
    "- [Conditional Statements](https://www.dataquest.io/blog/tutorial-using-if-statements-in-python/) (`if`-`else` statements)\n",
    "- [Loops](https://www.simplilearn.com/tutorials/python-tutorial/python-loops) (`for` loop and `while` loop)\n",
    "- [Functions](https://www.tutorialsteacher.com/python/python-user-defined-function) and [Modules](https://www.tutorialsteacher.com/python/python-module)\n",
    "- [Numerical Arrays](https://cs231n.github.io/python-numpy-tutorial/) with `Numpy`\n",
    "- [Basic Visualization](https://www.oreilly.com/library/view/python-data-science/9781491912126/ch04.html) with `Matplotlib`"
   ]
  },
  {
   "cell_type": "markdown",
   "metadata": {},
   "source": [
    "## Python Modules Used\n",
    "\n",
    "- `math`\n",
    "- `numpy`\n",
    "- `matplotlib`"
   ]
  },
  {
   "cell_type": "markdown",
   "metadata": {},
   "source": [
    "# <font color=\"red\">Python Primitive Data Types</font>\n",
    "\n",
    "- Data types are the classification or categorization of data items. \n",
    "- Data types represent a kind of value which determines what operations can be performed on that data.\n",
    "- Every value in Python has a datatype.\n",
    "\n",
    "Python has four primitive data types:\n",
    "\n",
    "* Integer\n",
    "* Float\n",
    "* Boolean\n",
    "* String\n",
    "\n",
    "We will cover the above data types in addition to complex numbers."
   ]
  },
  {
   "cell_type": "markdown",
   "metadata": {},
   "source": [
    "## <font color=\"blue\">Concept of Variables</font>\n",
    "\n",
    "* Variables are nothing but reserved memory locations to store values. This means that when you create a variable you reserve some space in memory.\n",
    "* Python variables do not need explicit declaration to reserve memory space.\n",
    "* The declaration happens automatically when you assign a value to a variable. \n",
    "* The equal sign (`=`) is used to assign values to variables.\n",
    "* Based on the data type of a variable, the Python interpreter allocates memory and decides what can be stored in the reserved memory. \n",
    "* A variable can change its type over the course of the program's execution.\n",
    "* By assigning different data types to variables, you can store integers, decimals or characters in these variables."
   ]
  },
  {
   "cell_type": "markdown",
   "metadata": {},
   "source": [
    "## <font color=\"blue\"> Integers </font>"
   ]
  },
  {
   "cell_type": "markdown",
   "metadata": {},
   "source": [
    "* An integer is a whole number that could hold a zero, positive or negative value.\n",
    "* Integers can be of any length, it is only limited by the memory available."
   ]
  },
  {
   "cell_type": "code",
   "execution_count": null,
   "metadata": {},
   "outputs": [],
   "source": [
    "a = 12345678901234567890123456789012345678901234567890\n",
    "print(a)"
   ]
  },
  {
   "cell_type": "code",
   "execution_count": null,
   "metadata": {},
   "outputs": [],
   "source": [
    "b = a + 11\n",
    "print(b)"
   ]
  },
  {
   "cell_type": "markdown",
   "metadata": {},
   "source": [
    "- The underlying type of a Python integer, irrespective of the base used to specify it, is called `int`.\n",
    "- We can use the `type()` function to determine the type of any Python data item."
   ]
  },
  {
   "cell_type": "code",
   "execution_count": null,
   "metadata": {},
   "outputs": [],
   "source": [
    "type(10)"
   ]
  },
  {
   "cell_type": "markdown",
   "metadata": {},
   "source": [
    "- We can also use the `isinstance()` function to check if a data item belongs to a particular data type."
   ]
  },
  {
   "cell_type": "code",
   "execution_count": null,
   "metadata": {},
   "outputs": [],
   "source": [
    "a = 12345678901234567890123456789012345678901234567890\n",
    "print(a, \"is of type\", type(a))\n",
    "print(a, \"is integer?\", isinstance(a, int))"
   ]
  },
  {
   "cell_type": "markdown",
   "metadata": {},
   "source": [
    "### Integer Arithmetic"
   ]
  },
  {
   "cell_type": "markdown",
   "metadata": {},
   "source": [
    "In Python, __variables are not declared__. The type of a variable is determined when it is assigned a value."
   ]
  },
  {
   "cell_type": "markdown",
   "metadata": {},
   "source": [
    "#### <font color=\"green\">Example 1</font>"
   ]
  },
  {
   "cell_type": "code",
   "execution_count": null,
   "metadata": {},
   "outputs": [],
   "source": [
    "a = 1\n",
    "b = 2\n",
    "c = 3\n",
    "d = 4\n",
    "e = 5\n",
    "f = 6\n",
    "g = 7\n",
    "h = 8"
   ]
  },
  {
   "cell_type": "code",
   "execution_count": null,
   "metadata": {},
   "outputs": [],
   "source": [
    "print(a + b)"
   ]
  },
  {
   "cell_type": "code",
   "execution_count": null,
   "metadata": {},
   "outputs": [],
   "source": [
    "print(c - d)"
   ]
  },
  {
   "cell_type": "code",
   "execution_count": null,
   "metadata": {},
   "outputs": [],
   "source": [
    "print(e * f)"
   ]
  },
  {
   "cell_type": "code",
   "execution_count": null,
   "metadata": {},
   "outputs": [],
   "source": [
    "print(g / h)"
   ]
  },
  {
   "cell_type": "markdown",
   "metadata": {},
   "source": [
    "#### <font color=\"green\">Example 2</font>"
   ]
  },
  {
   "cell_type": "code",
   "execution_count": null,
   "metadata": {},
   "outputs": [],
   "source": [
    "x = 17\n",
    "y = 3"
   ]
  },
  {
   "cell_type": "code",
   "execution_count": null,
   "metadata": {},
   "outputs": [],
   "source": [
    "print(x /  y)  # gives 5.66666666667"
   ]
  },
  {
   "cell_type": "code",
   "execution_count": null,
   "metadata": {},
   "outputs": [],
   "source": [
    "print(x // y)  # gives 5"
   ]
  },
  {
   "cell_type": "code",
   "execution_count": null,
   "metadata": {},
   "outputs": [],
   "source": [
    "print(x %  y)   # gives 2"
   ]
  },
  {
   "cell_type": "markdown",
   "metadata": {},
   "source": [
    "## <font color=\"blue\">Floating Point Numbers </font>"
   ]
  },
  {
   "cell_type": "markdown",
   "metadata": {},
   "source": [
    "* The float type in Python designates a floating-point number. \n",
    "* Float values are specified with a decimal point.\n",
    "* A floating-point number is accurate up to 15 decimal places.\n",
    "* The character e or E followed by a positive or negative integer may be appended to specify scientific notation."
   ]
  },
  {
   "cell_type": "code",
   "execution_count": null,
   "metadata": {},
   "outputs": [],
   "source": [
    "7.94"
   ]
  },
  {
   "cell_type": "code",
   "execution_count": null,
   "metadata": {},
   "outputs": [],
   "source": [
    "type(7.94)"
   ]
  },
  {
   "cell_type": "code",
   "execution_count": null,
   "metadata": {},
   "outputs": [],
   "source": [
    ".56"
   ]
  },
  {
   "cell_type": "code",
   "execution_count": null,
   "metadata": {},
   "outputs": [],
   "source": [
    "56."
   ]
  },
  {
   "cell_type": "code",
   "execution_count": null,
   "metadata": {},
   "outputs": [],
   "source": [
    "2.6e-5"
   ]
  },
  {
   "cell_type": "code",
   "execution_count": null,
   "metadata": {},
   "outputs": [],
   "source": [
    "a = 0.1234567890123456789\n",
    "print(a, \"is of type\", type(a))\n",
    "print(a, \"is float?\", isinstance(a, float))"
   ]
  },
  {
   "cell_type": "markdown",
   "metadata": {},
   "source": [
    "* Floating point numbers are represented internally as binary (base-2) fractions. \n",
    "* Most decimal fractions cannot be represented exactly as binary fractions, so in most cases the internal representation of a floating-point number is an approximation of the actual value."
   ]
  },
  {
   "cell_type": "markdown",
   "metadata": {},
   "source": [
    "#### Operations on Floats"
   ]
  },
  {
   "cell_type": "code",
   "execution_count": null,
   "metadata": {},
   "outputs": [],
   "source": [
    "print(int(1.3))   # gives 1\n",
    "print(int(1.7))   # gives 1\n",
    "print(int(-1.3))  # gives -1\n",
    "print(int(-1.7))  # gives -1"
   ]
  },
  {
   "cell_type": "markdown",
   "metadata": {},
   "source": [
    "The `round()` function returns a floating-point number rounded to the specified number of decimals.\n",
    "\n",
    "```python\n",
    "   round(float_number [, ndigits])\n",
    "```\n",
    "\n",
    "It takes two parameters:\n",
    "\n",
    "+ **float_number** - the floating point number to be rounded\n",
    "+ **ndigits (optional)** - number up to which the given number is rounded; defaults to 0.\n",
    "\n",
    "Things to consider:\n",
    "\n",
    "- If `ndigits` is not provided, the returned value is the nearest integer.\n",
    "- If `ndigits` is present, it will round to the number of places given. The return type will be a float.\n",
    "- The returned value will be rounded to `+1` if the value after the decimal point is `>=5` else it will return the value as it is up to the decimal places mentioned"
   ]
  },
  {
   "cell_type": "markdown",
   "metadata": {},
   "source": [
    "#### <font color=\"green\">Example 3</font>\n",
    "\n",
    "Consider the positive floating point numbers:"
   ]
  },
  {
   "cell_type": "code",
   "execution_count": null,
   "metadata": {},
   "outputs": [],
   "source": [
    "float_num1 = 10.60 \n",
    "float_num2 = 10.40\n",
    "float_num3 = 10.3456 \n",
    "float_num4 = 10.3445 "
   ]
  },
  {
   "cell_type": "markdown",
   "metadata": {},
   "source": [
    "Let us perform various rounding operations:"
   ]
  },
  {
   "cell_type": "code",
   "execution_count": null,
   "metadata": {},
   "outputs": [],
   "source": [
    "print(\"Rounded value without num_of_decimals:\", round(float_num1))"
   ]
  },
  {
   "cell_type": "code",
   "execution_count": null,
   "metadata": {},
   "outputs": [],
   "source": [
    "print(\"Rounded value without num_of_decimals:\", round(float_num2))"
   ]
  },
  {
   "cell_type": "code",
   "execution_count": null,
   "metadata": {},
   "outputs": [],
   "source": [
    "print(\"Rounded value with num_of_decimals as 2:\", round(float_num3, 2))"
   ]
  },
  {
   "cell_type": "code",
   "execution_count": null,
   "metadata": {},
   "outputs": [],
   "source": [
    "print(\"Rounded value with num_of_decimals as 2:\", round(float_num4, 2))"
   ]
  },
  {
   "cell_type": "markdown",
   "metadata": {},
   "source": [
    "#### <font color=\"green\">Example 4</font>\n",
    "\n",
    "Let us see a few examples of how rounding works on negative numbers:"
   ]
  },
  {
   "cell_type": "code",
   "execution_count": null,
   "metadata": {},
   "outputs": [],
   "source": [
    "num = -2.8\n",
    "num1 = -1.5"
   ]
  },
  {
   "cell_type": "code",
   "execution_count": null,
   "metadata": {},
   "outputs": [],
   "source": [
    "print(\"The value after rounding is\", round(num))"
   ]
  },
  {
   "cell_type": "code",
   "execution_count": null,
   "metadata": {},
   "outputs": [],
   "source": [
    "print(\"The value after rounding is\", round(num1))"
   ]
  },
  {
   "cell_type": "markdown",
   "metadata": {},
   "source": [
    "#### <font color=\"green\">Example 5</font>\n",
    "\n",
    "- When you pass an argument through the command line, the type of the argument is a string.\n",
    "- It is important to convert the argument to a desired type."
   ]
  },
  {
   "cell_type": "code",
   "execution_count": null,
   "metadata": {},
   "outputs": [],
   "source": [
    "x = float(input(\"Give me a number: \"))\n",
    "print(x)"
   ]
  },
  {
   "cell_type": "markdown",
   "metadata": {},
   "source": [
    "## <font color=\"blue\">Complex Numbers</font>\n",
    "\n",
    "A complex number consists of an ordered pair of real floating point numbers denoted by:\n",
    "\n",
    "```python\n",
    "   a + bj\n",
    "```\n",
    "where `a` is the real part and `b` is the imaginary part of the complex number."
   ]
  },
  {
   "cell_type": "code",
   "execution_count": null,
   "metadata": {},
   "outputs": [],
   "source": [
    "3.0 + 9j"
   ]
  },
  {
   "cell_type": "code",
   "execution_count": null,
   "metadata": {},
   "outputs": [],
   "source": [
    "type(3.0+9j)"
   ]
  },
  {
   "cell_type": "markdown",
   "metadata": {},
   "source": [
    "#### <font color=\"green\">Example 6</font>"
   ]
  },
  {
   "cell_type": "code",
   "execution_count": null,
   "metadata": {},
   "outputs": [],
   "source": [
    "a = complex(3.0,9)\n",
    "b = complex(1,2)"
   ]
  },
  {
   "cell_type": "code",
   "execution_count": null,
   "metadata": {},
   "outputs": [],
   "source": [
    "print(\"a =                 \", a)\n",
    "print('Real Part =         ', a.real)\n",
    "print('Imaginary Part =    ', a.imag)\n",
    "print('Complex conjugate = ', a.conjugate())"
   ]
  },
  {
   "cell_type": "code",
   "execution_count": null,
   "metadata": {},
   "outputs": [],
   "source": [
    "print (\"a*a= \",a*a)\n",
    "print (\"a/b= \",a/b)\n",
    "print (\"a*b= \",a*b)"
   ]
  },
  {
   "cell_type": "markdown",
   "metadata": {},
   "source": [
    "## <font color=\"blue\">Booleans</font>"
   ]
  },
  {
   "cell_type": "markdown",
   "metadata": {},
   "source": [
    "* The python data type `bool` is used to store two values i.e `True` and `False`.\n",
    "* Booleans are used to test whether the result of an expression is true or false."
   ]
  },
  {
   "cell_type": "code",
   "execution_count": null,
   "metadata": {},
   "outputs": [],
   "source": [
    "true=True\n",
    "print(type(true))\n",
    "true=123\n",
    "type(true)"
   ]
  },
  {
   "cell_type": "code",
   "execution_count": null,
   "metadata": {},
   "outputs": [],
   "source": [
    "type(False)"
   ]
  },
  {
   "cell_type": "markdown",
   "metadata": {},
   "source": [
    "- A Boolean expression is an expression that evaluates to produce a result which is a Boolean value.\n",
    "- We can store a Boolean value in a variable:"
   ]
  },
  {
   "cell_type": "code",
   "execution_count": null,
   "metadata": {},
   "outputs": [],
   "source": [
    "my_bool = 5 > 8"
   ]
  },
  {
   "cell_type": "markdown",
   "metadata": {},
   "source": [
    "and then print the Boolean value with a call to the `print()` function:"
   ]
  },
  {
   "cell_type": "code",
   "execution_count": null,
   "metadata": {},
   "outputs": [],
   "source": [
    "print(my_bool)"
   ]
  },
  {
   "cell_type": "markdown",
   "metadata": {},
   "source": [
    "To check the boolean value of an expression or a variable, pass it as a parameter to the bool function:\n",
    "\n",
    "```python\n",
    "   print(bool(expression))\n",
    "```\n",
    "\n",
    "or\n",
    "\n",
    "```python\n",
    "   print(expression)\n",
    "```"
   ]
  },
  {
   "cell_type": "markdown",
   "metadata": {},
   "source": [
    "Booleans can be used when there is a need to compare two or more values.\n",
    "\n",
    "```python\n",
    "   x == y    # x is equal to y\n",
    "   x != y    # x is not equal to y\n",
    "   x > y     # x is greater than y\n",
    "   x < y     # x is less than y\n",
    "   x >= y    # x is greater than or equal to y\n",
    "   x <= y    # x is less than or equal to y\n",
    "```"
   ]
  },
  {
   "cell_type": "markdown",
   "metadata": {},
   "source": [
    "Check if x and y are equal:"
   ]
  },
  {
   "cell_type": "code",
   "execution_count": null,
   "metadata": {},
   "outputs": [],
   "source": [
    "print(3==4) \n",
    "print(bool(3==4))"
   ]
  },
  {
   "cell_type": "markdown",
   "metadata": {},
   "source": [
    "Check if x and y are not equal:"
   ]
  },
  {
   "cell_type": "code",
   "execution_count": null,
   "metadata": {},
   "outputs": [],
   "source": [
    "print(3!=4) \n",
    "print(bool(3!=4))"
   ]
  },
  {
   "cell_type": "markdown",
   "metadata": {},
   "source": [
    "Check if x is greater than y:"
   ]
  },
  {
   "cell_type": "code",
   "execution_count": null,
   "metadata": {},
   "outputs": [],
   "source": [
    "print(3>4) \n",
    "print(bool(3>4))"
   ]
  },
  {
   "cell_type": "markdown",
   "metadata": {},
   "source": [
    "Check if x is less than y:"
   ]
  },
  {
   "cell_type": "code",
   "execution_count": null,
   "metadata": {},
   "outputs": [],
   "source": [
    "print(3<4) \n",
    "print(bool(3<4))"
   ]
  },
  {
   "cell_type": "markdown",
   "metadata": {},
   "source": [
    "Check if x is greater than or equal to y:"
   ]
  },
  {
   "cell_type": "code",
   "execution_count": null,
   "metadata": {},
   "outputs": [],
   "source": [
    "print(3>=4)\n",
    "print(bool(3>=4)) "
   ]
  },
  {
   "cell_type": "markdown",
   "metadata": {},
   "source": [
    "Check if x is less than equal to y:"
   ]
  },
  {
   "cell_type": "code",
   "execution_count": null,
   "metadata": {},
   "outputs": [],
   "source": [
    "print(3<=4)\n",
    "print(bool(3<=4)) "
   ]
  },
  {
   "cell_type": "markdown",
   "metadata": {},
   "source": [
    "## <font color=\"red\">Strings</font>"
   ]
  },
  {
   "cell_type": "markdown",
   "metadata": {},
   "source": [
    "* Strings are sequences of character data. \n",
    "* The string type in Python is called str.\n",
    "* String literals may be delimited using either single or double quotes.\n",
    "* All the characters between the opening delimiter and matching closing delimiter are part of the string.\n",
    "* <font color='blue'>Are immutable</font>."
   ]
  },
  {
   "cell_type": "code",
   "execution_count": null,
   "metadata": {},
   "outputs": [],
   "source": [
    "print(\"Welcome to the Python Camp!\")"
   ]
  },
  {
   "cell_type": "code",
   "execution_count": null,
   "metadata": {},
   "outputs": [],
   "source": [
    "type(\"Welcome to the Python Camp!\")"
   ]
  },
  {
   "cell_type": "markdown",
   "metadata": {},
   "source": [
    "* A string in Python can contain as many characters as you wish.\n",
    "* The only limit is your machine’s memory resources. "
   ]
  },
  {
   "cell_type": "code",
   "execution_count": null,
   "metadata": {},
   "outputs": [],
   "source": [
    "print(\"This string contains a single quote (') character.\")"
   ]
  },
  {
   "cell_type": "code",
   "execution_count": null,
   "metadata": {},
   "outputs": [],
   "source": [
    "print('This string contains a double quote (\") character.')"
   ]
  },
  {
   "cell_type": "markdown",
   "metadata": {},
   "source": [
    "<b> Escape Sequences in Strings </b>"
   ]
  },
  {
   "cell_type": "code",
   "execution_count": null,
   "metadata": {},
   "outputs": [],
   "source": [
    "print('This string contains a single quote (\\'* character.')"
   ]
  },
  {
   "cell_type": "code",
   "execution_count": null,
   "metadata": {},
   "outputs": [],
   "source": [
    "print(\"This string contains a double quote (\\\") character.\")"
   ]
  },
  {
   "cell_type": "code",
   "execution_count": null,
   "metadata": {},
   "outputs": [],
   "source": [
    "print('abc')\n",
    "print('a\\\n",
    "b\\\n",
    "c')"
   ]
  },
  {
   "cell_type": "code",
   "execution_count": null,
   "metadata": {},
   "outputs": [],
   "source": [
    "print('foo\\\\bar')"
   ]
  },
  {
   "cell_type": "markdown",
   "metadata": {},
   "source": [
    "### Applying Special Meaning to Characters\n",
    "\n",
    "We want to represent escape sequences that are typically used to insert characters that are not readily generated from the keyboard or are not easily readable or printable.\n",
    "<P>\n",
    "Here is a list of escape sequences that cause Python to apply special meaning instead of interpreting literally:\n",
    "\n",
    "| Escape Sequence| “Escaped” Interpretation |\n",
    "| --- | --- |\n",
    "| \\a\t| ASCII Bell (BEL) character\n",
    "| \\b\t| ASCII Backspace (BS) character\n",
    "| \\f\t| ASCII Formfeed (FF) character\n",
    "| \\n\t| ASCII Linefeed (LF) character\n",
    "| \\N{<name>}| \tCharacter from Unicode database with given <name>\n",
    "| \\r\t| ASCII Carriage Return (CR) character\n",
    "| \\t\t| ASCII Horizontal Tab (TAB) character\n",
    "| \\uxxxx\t| Unicode character with 16-bit hex value xxxx\n",
    "| \\Uxxxxxxxx\t| Unicode character with 32-bit hex value xxxxxxxx\n",
    "| \\v\t| ASCII Vertical Tab (VT) character\n",
    "| \\ooo\t| Character with octal value ooo\n",
    "| \\xhh\t| Character with hex value hh"
   ]
  },
  {
   "cell_type": "code",
   "execution_count": null,
   "metadata": {},
   "outputs": [],
   "source": [
    "print(\"a\\t\\t\\tb\")"
   ]
  },
  {
   "cell_type": "code",
   "execution_count": null,
   "metadata": {},
   "outputs": [],
   "source": [
    "print(\"\\141\", \"\\x61\")"
   ]
  },
  {
   "cell_type": "code",
   "execution_count": null,
   "metadata": {},
   "outputs": [],
   "source": [
    "print(\"a\\n\\tb \")"
   ]
  },
  {
   "cell_type": "code",
   "execution_count": null,
   "metadata": {},
   "outputs": [],
   "source": [
    "print('\\u2192 \\N{rightwards arrow}')"
   ]
  },
  {
   "cell_type": "markdown",
   "metadata": {},
   "source": [
    "### Raw Strings\n",
    "\n",
    "- A raw string literal is preceded by `r` or `R`, which specifies that escape sequences in the associated string are not translated. \n",
    "- The backslash character is left in the string."
   ]
  },
  {
   "cell_type": "code",
   "execution_count": null,
   "metadata": {},
   "outputs": [],
   "source": [
    "print('foo\\nbar')"
   ]
  },
  {
   "cell_type": "code",
   "execution_count": null,
   "metadata": {},
   "outputs": [],
   "source": [
    "print(r'foo\\nbar')"
   ]
  },
  {
   "cell_type": "code",
   "execution_count": null,
   "metadata": {},
   "outputs": [],
   "source": [
    "print('foo\\\\bar')"
   ]
  },
  {
   "cell_type": "code",
   "execution_count": null,
   "metadata": {},
   "outputs": [],
   "source": [
    "print(R'foo\\\\bar')"
   ]
  },
  {
   "cell_type": "markdown",
   "metadata": {},
   "source": [
    "### Triple Quotes\n",
    "\n",
    "- Triple-quoted strings are delimited by matching groups of three single quotes or three double quotes. \n",
    "- Escape sequences still work in triple-quoted strings, but single quotes, double quotes, and newlines can be included without escaping them. \n",
    "- Provide a convenient way to create a string with both single and double quotes in it."
   ]
  },
  {
   "cell_type": "code",
   "execution_count": null,
   "metadata": {},
   "outputs": [],
   "source": [
    "print('''This string has a single (') and a double (\") quote.''')"
   ]
  },
  {
   "cell_type": "code",
   "execution_count": null,
   "metadata": {},
   "outputs": [],
   "source": [
    "print(\"\"\"This is a\n",
    "string that spans\n",
    "across several lines\"\"\")"
   ]
  },
  {
   "cell_type": "markdown",
   "metadata": {},
   "source": [
    "### Accessing Values in Strings\n",
    "- Python does not support a character type; these are treated as strings of length one, thus also considered a substring.\n",
    "- To access substrings, use the square brackets for slicing along with the index or indices to obtain your substring"
   ]
  },
  {
   "cell_type": "code",
   "execution_count": null,
   "metadata": {},
   "outputs": [],
   "source": [
    "astring1 = \"Welcome To the Python Camp!\"\n",
    "astring2 = \"A Training Course for Beginners.\""
   ]
  },
  {
   "cell_type": "code",
   "execution_count": null,
   "metadata": {},
   "outputs": [],
   "source": [
    "print(astring1[3:10])"
   ]
  },
  {
   "cell_type": "code",
   "execution_count": null,
   "metadata": {},
   "outputs": [],
   "source": [
    "print(astring1[3:15:1])"
   ]
  },
  {
   "cell_type": "code",
   "execution_count": null,
   "metadata": {},
   "outputs": [],
   "source": [
    "print(astring1[3:15:2])"
   ]
  },
  {
   "cell_type": "code",
   "execution_count": null,
   "metadata": {},
   "outputs": [],
   "source": [
    "print(astring1[-2])"
   ]
  },
  {
   "cell_type": "markdown",
   "metadata": {},
   "source": [
    "- Python allows to index from the zeroth position in Strings. \n",
    "- Python also supports negative indexes. \n",
    "- Index of ‘-1’ represents the last character of the String. Similarly, using ‘-2’, we can access the penultimate element of the string and so on.\n",
    "\n",
    "| P | Y | T | H | O | N | - | S | T | R | I | N | G |\n",
    "|---|---|---|---|---|---|---|---|---|---|---|---|---|\n",
    "| 0 | 1 | 2 | 3 | 4 | 5 | 6 | 7 | 8 | 9 |10 |11 |12 |\n",
    "|-13|-12|-11|-10|-9 |-8 |-7 |-6 |-5 |-4 |-3 |-2 |-1 |"
   ]
  },
  {
   "cell_type": "markdown",
   "metadata": {},
   "source": [
    "## <font color=\"blue\">Type Casting</font>\n",
    "\n",
    "- Type casting is the process of converting data from one type into another.\n",
    "- There are a number of functions built in to Python which allow us to do these type conversions on basic data types."
   ]
  },
  {
   "cell_type": "markdown",
   "metadata": {},
   "source": [
    "**Convert to Integer**"
   ]
  },
  {
   "cell_type": "code",
   "execution_count": null,
   "metadata": {},
   "outputs": [],
   "source": [
    "v1 = int(2.7)        # 2\n",
    "v2 = int(-3.9)       # -3\n",
    "v3 = int(\"2\")        # 2\n",
    "v4 = int(\"11\", 16)   # 17, base 16\n",
    "v5 = int(False)\n",
    "print(v1, v2, v3, v4, v5)"
   ]
  },
  {
   "cell_type": "markdown",
   "metadata": {},
   "source": [
    "**Convert to Float**"
   ]
  },
  {
   "cell_type": "code",
   "execution_count": null,
   "metadata": {},
   "outputs": [],
   "source": [
    "v6 = float(2)        # 2.0\n",
    "v7 = float(\"2.7\")    # 2.7\n",
    "v8 = float(\"2.7E-2\") # 0.027\n",
    "v9 = float(False)    # 0.0\n",
    "vA = float(True)     # 1.0\n",
    "print(v6, v7, v8, v9, vA)"
   ]
  },
  {
   "cell_type": "markdown",
   "metadata": {},
   "source": [
    "**Convert to String**"
   ]
  },
  {
   "cell_type": "code",
   "execution_count": null,
   "metadata": {},
   "outputs": [],
   "source": [
    "vB = str(4.5)        # \"4.5\"\n",
    "vC = str(True)\n",
    "print(vB, vC, type(vC))"
   ]
  },
  {
   "cell_type": "markdown",
   "metadata": {},
   "source": [
    "**Convert to Bolean**"
   ]
  },
  {
   "cell_type": "code",
   "execution_count": null,
   "metadata": {},
   "outputs": [],
   "source": [
    "vD = bool(0)         #       False; \n",
    "vE = bool(3)         # True\n",
    "vF = bool(\"PyTHoN\")\n",
    "vG = bool(list())\n",
    "print(vD, vE, vF, vG)"
   ]
  },
  {
   "cell_type": "markdown",
   "metadata": {},
   "source": [
    "# <font color=\"red\">Data Structures</font>\n",
    "\n",
    "Python has four basic inbuilt data structures:\n",
    "* Lists\n",
    "* Dictionary\n",
    "* Tuple\n",
    "* Set"
   ]
  },
  {
   "cell_type": "markdown",
   "metadata": {},
   "source": [
    "## <font color=\"blue\">List</font>\n",
    "\n",
    "* A list is data structure that holds ordered collections of data in the square brackets `[]` separated by a comma. \n",
    "   - Can contain unlimited data depending upon the limitation of your computer's memory.\n",
    "* Elements can be accessed by index.\n",
    "* Grow and shrink as needed.\n",
    "* <font color='blue'> Can contain a mix of types </font>\n",
    "* <font color='blue'>Are mutable</font>: you can change their content without changing their identity."
   ]
  },
  {
   "cell_type": "markdown",
   "metadata": {},
   "source": [
    "**Initialization**\n",
    "\n",
    "An empty list:"
   ]
  },
  {
   "cell_type": "code",
   "execution_count": null,
   "metadata": {},
   "outputs": [],
   "source": [
    "empty_list = []"
   ]
  },
  {
   "cell_type": "code",
   "execution_count": null,
   "metadata": {},
   "outputs": [],
   "source": [
    "empty_list = list()"
   ]
  },
  {
   "cell_type": "markdown",
   "metadata": {},
   "source": [
    "Create a list that is not empty:"
   ]
  },
  {
   "cell_type": "code",
   "execution_count": null,
   "metadata": {},
   "outputs": [],
   "source": [
    "some_primes = [2, 3, 5, 7, 11, 13, 17, 19]\n",
    "fruits = ['apple', 'mango', 'orange', 'kiwi', 'blueberry']"
   ]
  },
  {
   "cell_type": "markdown",
   "metadata": {},
   "source": [
    "**Access elements**"
   ]
  },
  {
   "cell_type": "code",
   "execution_count": null,
   "metadata": {},
   "outputs": [],
   "source": [
    "print(fruits[1])"
   ]
  },
  {
   "cell_type": "code",
   "execution_count": null,
   "metadata": {},
   "outputs": [],
   "source": [
    "print(fruits[-1])"
   ]
  },
  {
   "cell_type": "code",
   "execution_count": null,
   "metadata": {},
   "outputs": [],
   "source": [
    "print(fruits[2:4])"
   ]
  },
  {
   "cell_type": "code",
   "execution_count": null,
   "metadata": {},
   "outputs": [],
   "source": [
    "print(some_primes[0::2])"
   ]
  },
  {
   "cell_type": "markdown",
   "metadata": {},
   "source": [
    "**Iterate over a List**\n",
    "\n",
    "This is how one iterates over a list:"
   ]
  },
  {
   "cell_type": "code",
   "execution_count": null,
   "metadata": {},
   "outputs": [],
   "source": [
    "for item in fruits:        \n",
    "    print(item)"
   ]
  },
  {
   "cell_type": "markdown",
   "metadata": {},
   "source": [
    "**Basic List Operations**\n",
    "\n",
    "| **Python Expression** | **Results** | **Description** |\n",
    "| --- | --- | --- |\n",
    "| len([1, 2, 3]) | 3 | Length |\n",
    "| [1, 2, 3] + [4, 5, 6] | [1, 2, 3, 4, 5, 6] | Concatenation| \n",
    "| ['Hi!'] * 4 | ['Hi!', 'Hi!', 'Hi!', 'Hi!'] | Repetition |\n",
    "| a = [12, 34, 56, 78, 90]; print(a[1:4]) | [34, 56, 78] | slicing |\n",
    "| 3 in [1, 2, 3] | True | Membership | \n",
    "| [12, 3, 4 , 0] > [9, 12, 34] | True | Comparison |\n",
    "| for x in [1, 2, 3]: print(x)  | 1 2 3 | Iteration | "
   ]
  },
  {
   "cell_type": "markdown",
   "metadata": {},
   "source": [
    "## <font color=\"blue\">Tuple</font>\n",
    "\n",
    "* A tuple is an ordered sequence of elements. \n",
    "* Defined by enclosing the elements in parentheses `( )`, separated by a comma.\n",
    "* Used for fixed data\n",
    "* <font color='blue'>Is immutable</font>: once defined you cannot delete, add or edit any values inside it.\n",
    "* A tuple is used in scenarios where it is certain that the (set of) values belonging to some statement or a user-defined function will not change.\n",
    "* Accessing elements of a tuple is faster than that of a list."
   ]
  },
  {
   "cell_type": "code",
   "execution_count": null,
   "metadata": {},
   "outputs": [],
   "source": [
    "empty_tuple = tuple()\n",
    "print(type(empty_tuple))"
   ]
  },
  {
   "cell_type": "code",
   "execution_count": null,
   "metadata": {},
   "outputs": [],
   "source": [
    "primes = 2, 3, 5, 7, 11, 13\n",
    "print(type(primes))"
   ]
  },
  {
   "cell_type": "code",
   "execution_count": null,
   "metadata": {},
   "outputs": [],
   "source": [
    "planets = ('mercury', 'venus', 'earth', 'mars', 'jupiter', \n",
    "           'saturn', 'uranus', 'neptune')\n",
    "print(type(planets))"
   ]
  },
  {
   "cell_type": "code",
   "execution_count": null,
   "metadata": {},
   "outputs": [],
   "source": [
    "print ('Number of planets is: {}'.format(len(planets)))"
   ]
  },
  {
   "cell_type": "code",
   "execution_count": null,
   "metadata": {},
   "outputs": [],
   "source": [
    "print(planets.count('earth')) "
   ]
  },
  {
   "cell_type": "code",
   "execution_count": null,
   "metadata": {},
   "outputs": [],
   "source": [
    "print(planets.index('mars'))"
   ]
  },
  {
   "cell_type": "markdown",
   "metadata": {},
   "source": [
    "## <font color=\"blue\">Dictionary</font>\n",
    "\n",
    "* A dictionary is an associative data structure of variable length.\n",
    "* A dictionary consists of an ordered collection of `key:value` pairs separated by commas inside curly brackets `{}`. \n",
    "* Each key-value pair maps the key to its associated value.\n",
    "* A key should be unique and an immutable object.\n",
    "* <font color='blue'>A dictionary is mutable</font>."
   ]
  },
  {
   "cell_type": "markdown",
   "metadata": {},
   "source": [
    "#### Initialization"
   ]
  },
  {
   "cell_type": "code",
   "execution_count": null,
   "metadata": {},
   "outputs": [],
   "source": [
    "empty_dict = dict()"
   ]
  },
  {
   "cell_type": "code",
   "execution_count": null,
   "metadata": {},
   "outputs": [],
   "source": [
    "daily_temps = dict()\n",
    "daily_temps['mon'] = 70.2\n",
    "daily_temps['tue'] = 67.2\n",
    "daily_temps['wed'] = 71.8\n",
    "daily_temps['thu'] = 73.2\n",
    "daily_temps['fri'] = 75.6\n",
    "\n",
    "daily_temps"
   ]
  },
  {
   "cell_type": "code",
   "execution_count": null,
   "metadata": {},
   "outputs": [],
   "source": [
    "daily_temps = {'mon': 70.2, 'tue': 67.2, 'wed': 71.8, \n",
    "               'thu': 73.2, 'fri': 75.6}\n",
    "daily_temps"
   ]
  },
  {
   "cell_type": "markdown",
   "metadata": {},
   "source": [
    "#### Operations"
   ]
  },
  {
   "cell_type": "markdown",
   "metadata": {},
   "source": [
    "Square brackets are used for accessing elements:"
   ]
  },
  {
   "cell_type": "code",
   "execution_count": null,
   "metadata": {},
   "outputs": [],
   "source": [
    "daily_temps['mon']"
   ]
  },
  {
   "cell_type": "markdown",
   "metadata": {},
   "source": [
    "List all the keys in a dictionary: `key()` function:"
   ]
  },
  {
   "cell_type": "code",
   "execution_count": null,
   "metadata": {},
   "outputs": [],
   "source": [
    "daily_temps.keys()"
   ]
  },
  {
   "cell_type": "markdown",
   "metadata": {},
   "source": [
    "List all the values in a dictionary: `value()` function:"
   ]
  },
  {
   "cell_type": "code",
   "execution_count": null,
   "metadata": {},
   "outputs": [],
   "source": [
    "daily_temps.values()"
   ]
  },
  {
   "cell_type": "markdown",
   "metadata": {},
   "source": [
    "List all the pairs of keys and values in a dictionary: `items()` function:"
   ]
  },
  {
   "cell_type": "code",
   "execution_count": null,
   "metadata": {},
   "outputs": [],
   "source": [
    "daily_temps.items()"
   ]
  },
  {
   "cell_type": "markdown",
   "metadata": {},
   "source": [
    "Check if a given key belongs to a dictionary:"
   ]
  },
  {
   "cell_type": "code",
   "execution_count": null,
   "metadata": {},
   "outputs": [],
   "source": [
    "'sat' in daily_temps"
   ]
  },
  {
   "cell_type": "markdown",
   "metadata": {},
   "source": [
    "Looping over a dictionary:"
   ]
  },
  {
   "cell_type": "code",
   "execution_count": null,
   "metadata": {},
   "outputs": [],
   "source": [
    "for day in daily_temps:\n",
    "    print(f\"Key: {day} and Value: {daily_temps[day]}\")"
   ]
  },
  {
   "cell_type": "code",
   "execution_count": null,
   "metadata": {},
   "outputs": [],
   "source": [
    "for day, temp in daily_temps.items():\n",
    "    print(day, temp)"
   ]
  },
  {
   "cell_type": "markdown",
   "metadata": {},
   "source": [
    "### Useful Function Assiociated with Dictionaries\n",
    "\n",
    "Assume that `d` is a dictionary.\n",
    "\n",
    "| Function | Description |\n",
    "| --- | --- |\n",
    "| `d.get(<key>[, <default>])` | Returns the value for a key if it exists in the dictionary. |\n",
    "| `d.items()` | Returns a list of key-value pairs in a dictionary. |\n",
    "| `d.keys()` | Returns a list of keys in a dictionary. |\n",
    "| `d.values()` | Returns a list of values in a dictionary. |\n",
    "| `d.pop(<key>[, <default>])` | Removes a key from a dictionary, if it is present, and returns its value. |\n",
    "| `d.popitem()` | Removes the last key-value pair added from d and returns it as a tuple. |\n",
    "| `d.update()` | Merges a dictionary with another dictionary or with an iterable of key-value pairs. |\n",
    "| `d.clear()` | Empties a dictionary of all key-value pairs. |"
   ]
  },
  {
   "cell_type": "markdown",
   "metadata": {},
   "source": [
    "## <font color=\"blue\">Set</font>\n",
    "\n",
    "* A sequence used to store non-duplicate data.\n",
    "* Data is unordered, accesed via indexing.\n",
    "* <font color='blue'>mutable</font>."
   ]
  },
  {
   "cell_type": "markdown",
   "metadata": {},
   "source": [
    "#### Initialization"
   ]
  },
  {
   "cell_type": "code",
   "execution_count": null,
   "metadata": {},
   "outputs": [],
   "source": [
    "empty_set = set()\n",
    "print(type(empty_set))"
   ]
  },
  {
   "cell_type": "code",
   "execution_count": null,
   "metadata": {},
   "outputs": [],
   "source": [
    "fibo = {1, 1, 2, 3, 5}\n",
    "print(type(fibo))\n",
    "print(\"Set fibo:\", fibo)"
   ]
  },
  {
   "cell_type": "markdown",
   "metadata": {},
   "source": [
    "#### Mathematical Operations on Sets"
   ]
  },
  {
   "cell_type": "code",
   "execution_count": null,
   "metadata": {},
   "outputs": [],
   "source": [
    "a = set([1, 2, 3, 4])\n",
    "b = set([3, 4, 5, 6])"
   ]
  },
  {
   "cell_type": "code",
   "execution_count": null,
   "metadata": {},
   "outputs": [],
   "source": [
    "a.union(b)  # a | b"
   ]
  },
  {
   "cell_type": "code",
   "execution_count": null,
   "metadata": {},
   "outputs": [],
   "source": [
    "a.intersection(b) # a & b"
   ]
  },
  {
   "cell_type": "code",
   "execution_count": null,
   "metadata": {},
   "outputs": [],
   "source": [
    "a.issubset(b) # a < b"
   ]
  },
  {
   "cell_type": "code",
   "execution_count": null,
   "metadata": {},
   "outputs": [],
   "source": [
    "a.difference(b) # a - b"
   ]
  },
  {
   "cell_type": "markdown",
   "metadata": {},
   "source": [
    "# <font color=\"red\">Conditional Statements</font>"
   ]
  },
  {
   "cell_type": "markdown",
   "metadata": {},
   "source": [
    "## <font color=\"blue\">The `if` Statement</font>\n",
    "\n",
    "---\n",
    "\n",
    "```python\n",
    "   if <expr>:\n",
    "       <statement>\n",
    "```\n",
    "\n",
    "In the form shown above:\n",
    "\n",
    "- `<expr>` is an expression evaluated in Boolean context.\n",
    "- `<statement>` is a valid Python statement, which must be indented. "
   ]
  },
  {
   "cell_type": "code",
   "execution_count": null,
   "metadata": {},
   "outputs": [],
   "source": [
    "x = 5\n",
    "y = 2"
   ]
  },
  {
   "cell_type": "code",
   "execution_count": null,
   "metadata": {},
   "outputs": [],
   "source": [
    "if y < x: \n",
    "    print('yes')"
   ]
  },
  {
   "cell_type": "code",
   "execution_count": null,
   "metadata": {},
   "outputs": [],
   "source": [
    "if x < y: \n",
    "    print('yes')"
   ]
  },
  {
   "cell_type": "markdown",
   "metadata": {},
   "source": [
    "## <font color=\"blue\">The `if`-`else` Statement</font>\n",
    "\n",
    "---\n",
    "\n",
    "```python\n",
    "   if <expr>:\n",
    "       <statement> when the expression is true\n",
    "   else:\n",
    "       <statement> when the expression is false    \n",
    "```\n",
    "\n",
    "![fig_ifelse](https://www.tutorialspoint.com/python/images/if_else_statement.jpg)\n",
    "Image Source: tutorialspoint.com"
   ]
  },
  {
   "cell_type": "code",
   "execution_count": null,
   "metadata": {},
   "outputs": [],
   "source": [
    "# provide the temperature of the patient.\n",
    "temp = float(input('Enter the temperature of the patient: '))\n",
    "\n",
    "if temp > 105.8:\n",
    "    print('The patient has a very high fever.')\n",
    "elif temp > 103.1:\n",
    "    print('The patient has a high fever.')\n",
    "elif temp > 100.4:\n",
    "    print('The patient has fever.')\n",
    "elif temp > 97.9:\n",
    "    print('The patient is fine.')\n",
    "else:\n",
    "    print('The temperature of the patient is low.')"
   ]
  },
  {
   "cell_type": "markdown",
   "metadata": {},
   "source": [
    "# <font color=\"red\">Loops </font>\n",
    "\n",
    "- A loop in a computer program is an instruction that is executed over and over again until a specified condition is reached. \n",
    "- The purpose of loops is to repeat the same, or similar, code a number of times (process is called **iterations**).  This number of times could be specified to a certain number, or the number of times could be dictated by a certain condition being met. \n",
    "- A loop usually has one or more of the following features:\n",
    "    - A **counter**, which is initialized with a certain value — this is the starting point of the loop.\n",
    "    - A **condition**, which is a true/false test to determine whether the loop continues to run, or stops — usually when the counter reaches a certain value. \n",
    "    - An **iterator**, which generally increments the counter by a small amount on each successive loop, until the condition is no longer true.\n",
    "    \n",
    "__For example:__\n",
    "\n",
    "To add 1, 5 times is `1 + 1 + 1 + 1 + 1 = 5`.  \n",
    "\n",
    "In loops, however, we just have this logic:\n",
    "\n",
    "```python\n",
    "   x = 1 \n",
    "   x = x + 1 # (do this 4 times)\n",
    "```"
   ]
  },
  {
   "cell_type": "markdown",
   "metadata": {},
   "source": [
    "## <font color=\"blue\">The `for` Loop</font>\n",
    "\n",
    "Python’s for loop looks like this:\n",
    "\n",
    "\n",
    "```python\n",
    "for <item> in <iterable>:\n",
    "    <statement(s)>\n",
    "```\n",
    "\n",
    "- `<iterable>` is a collection of objects (list, tuple, etc.). \n",
    "- The `<statement(s)>` in the loop body are denoted by indentation, as with all Python control structures, and are executed once for each item in `<iterable>`. \n",
    "- The loop variable `<item>` takes on the value of the next element in `<iterable>` each time through the loop."
   ]
  },
  {
   "cell_type": "code",
   "execution_count": null,
   "metadata": {},
   "outputs": [],
   "source": [
    "total = 0\n",
    "\n",
    "for number in range(5):\n",
    "    # number = 0, 1, 2, 3, 4\n",
    "    total = total + 1\n",
    "\n",
    "print(total)"
   ]
  },
  {
   "cell_type": "code",
   "execution_count": null,
   "metadata": {},
   "outputs": [],
   "source": [
    "students = ['Bob', 'Sue', 'Joe', 'Betty']\n",
    "\n",
    "for student in students:\n",
    "    # student is a temporary variable pointing to the current item\n",
    "    print(student)"
   ]
  },
  {
   "cell_type": "code",
   "execution_count": null,
   "metadata": {},
   "outputs": [],
   "source": [
    "total = 0\n",
    "\n",
    "for number in range(10):\n",
    "    if total == 5:\n",
    "        break\n",
    "    total = total + 1\n",
    "\n",
    "print(total)"
   ]
  },
  {
   "cell_type": "markdown",
   "metadata": {},
   "source": [
    "## <font color=\"blue\"> The `while` Loop</font>\n",
    "\n",
    "\n",
    "+ The while loop tells the computer to do something as long as the condition is met.\n",
    "+ Its construct consists of a block of code and a condition. \n",
    "---\n",
    "\n",
    "```python\n",
    "while condition:\n",
    "    <statement>\n",
    "```\n",
    "\n",
    "The `while` loop continues to process indefinitely until `condition` evaluates to False."
   ]
  },
  {
   "cell_type": "code",
   "execution_count": null,
   "metadata": {},
   "outputs": [],
   "source": [
    "x=1\n",
    "epsilon=1e-16\n",
    "cnt = 0\n",
    "while x >= epsilon:\n",
    "    x = x/2\n",
    "    cnt += 1\n",
    "print(cnt, x)"
   ]
  },
  {
   "cell_type": "markdown",
   "metadata": {},
   "source": [
    "# <font color=\"red\">Function</font>\n",
    "\n",
    "### What is a Function?\n",
    "\n",
    "* Blocks of code which only runs when it is called.\n",
    "* Can be reused: save some time.\n",
    "* Make the code more readable.\n",
    "* Allow data (parameters) to be passed as arguments.\n",
    "\n",
    "### Syntax\n",
    "\n",
    "Here are simple rules to define a function in Python.\n",
    "\n",
    "- Function blocks begin with the keyword def followed by the function name and parentheses (`( )`).\n",
    "- Any input parameters or arguments should be placed within these parentheses. You can also define parameters inside these parentheses.\n",
    "- The first statement of a function can be an optional statement - the documentation string of the function or docstring.\n",
    "- The code block within every function starts with a colon (`:`) and is indented.\n",
    "- The statement return `[expression]` exits a function, optionally passing back an expression to the caller. A return statement with no arguments is the same as return `None`.\n",
    "\n",
    "```python\n",
    "def function_name([<arguments>]):\n",
    "    \"function_docstring\"\n",
    "    <function_statement(s)>\n",
    "    return [expression]\n",
    "```"
   ]
  },
  {
   "cell_type": "code",
   "execution_count": null,
   "metadata": {},
   "outputs": [],
   "source": [
    "def driver():\n",
    "    x = int(input('Provide an integer: '))\n",
    "    if (x < 0):\n",
    "        print(\"The number {:} is negative!\".format(x))\n",
    "    elif(x < 100):\n",
    "        print(\"The number {:} is reasonable!\".format(x))\n",
    "    else:\n",
    "        print(\"The number {:} is too large!\".format(x))\n",
    "\n",
    "driver()"
   ]
  },
  {
   "cell_type": "code",
   "execution_count": null,
   "metadata": {},
   "outputs": [],
   "source": [
    "def sum1(x, y):\n",
    "    return x + y\n",
    "\n",
    "print(sum1(4, 248))"
   ]
  },
  {
   "cell_type": "code",
   "execution_count": null,
   "metadata": {},
   "outputs": [],
   "source": [
    "def f(y, x=1):\n",
    "    return y + x**2\n",
    "\n",
    "print(f(5))\n",
    "print(f(1, 2))"
   ]
  },
  {
   "cell_type": "code",
   "execution_count": null,
   "metadata": {},
   "outputs": [],
   "source": [
    "def add_numbers(*numbers, initial=1):\n",
    "    total = initial\n",
    "    for n in numbers:\n",
    "        total += n\n",
    "    return total\n",
    "\n",
    "print(add_numbers())\n",
    "print(add_numbers(8))\n",
    "print(add_numbers(2,8, initial=3))\n",
    "print(add_numbers(1, 2, 3, 4, 5, 6, 7, initial=8))"
   ]
  },
  {
   "cell_type": "markdown",
   "metadata": {},
   "source": [
    "# <font color=\"red\">Modules</font>\n",
    "\n",
    "### Modular Programming\n",
    "\n",
    "+ Python supports modular programming: process of breaking down a large and complex programming task into smaller and more manageable subtask/module.\n",
    "+ Modularity has a lot of advantages:\n",
    "  + Reusability\n",
    "  + Maintainability\n",
    "  + Simplicity\n",
    "+ Functions, modules and packages are all constructs in Python that promote code modularization.\n",
    "\n",
    "### What is a Module?\n",
    "+ A module is nothing but a `.py` script that can be called in another `.py` script. \n",
    "+ A module is a file containing Python definitions and statements which helps to implement a set of functions. \n",
    "+ The file name is the module name with the suffix `.py` appended. \n",
    "+ Modules are imported from other modules using the `import` command. \n",
    "\n",
    "### Python Built-in Modules\n",
    "+ Python by default comes with hundreds of built-in modules.\n",
    "+ A list of such modules are available [HERE](https://docs.python.org/3/py-modindex.html).\n",
    "\n",
    "### Example: `math` Module\n",
    "\n",
    "+ Provides access to the mathematical functions defined by the C standard."
   ]
  },
  {
   "cell_type": "code",
   "execution_count": null,
   "metadata": {},
   "outputs": [],
   "source": [
    "import math\n",
    "\n",
    "print(math.log(10))"
   ]
  },
  {
   "cell_type": "code",
   "execution_count": null,
   "metadata": {},
   "outputs": [],
   "source": [
    "print(dir(math))"
   ]
  },
  {
   "cell_type": "code",
   "execution_count": null,
   "metadata": {},
   "outputs": [],
   "source": [
    "help(math.factorial)"
   ]
  },
  {
   "cell_type": "markdown",
   "metadata": {},
   "source": [
    "### Writing your Own Python Module\n",
    "\n",
    "**Step 1:** Create a `.py` File"
   ]
  },
  {
   "cell_type": "code",
   "execution_count": null,
   "metadata": {},
   "outputs": [],
   "source": [
    "%%writefile sample_module.py\n",
    "x = 2\n",
    "\n",
    "def func():\n",
    "    '''\n",
    "       This is a sample function\n",
    "       contains in a module.\n",
    "    '''\n",
    "    print('Hi from within a module!')\n",
    "\n",
    "if __name__ == '__main__':\n",
    "    print(\"<> Running the module as a script! <>\")\n",
    "    print(\"The Value of x is: \", x)\n",
    "    func()"
   ]
  },
  {
   "cell_type": "code",
   "execution_count": null,
   "metadata": {},
   "outputs": [],
   "source": [
    "%cat sample_module.py"
   ]
  },
  {
   "cell_type": "markdown",
   "metadata": {},
   "source": [
    "**Step 2:** Import the Module and Use Its Defined Variables and Functions"
   ]
  },
  {
   "cell_type": "code",
   "execution_count": null,
   "metadata": {},
   "outputs": [],
   "source": [
    "import sample_module\n",
    "\n",
    "print(dir(sample_module))"
   ]
  },
  {
   "cell_type": "code",
   "execution_count": null,
   "metadata": {},
   "outputs": [],
   "source": [
    "print(sample_module.x)"
   ]
  },
  {
   "cell_type": "code",
   "execution_count": null,
   "metadata": {},
   "outputs": [],
   "source": [
    "sample_module.func()"
   ]
  },
  {
   "cell_type": "code",
   "execution_count": null,
   "metadata": {},
   "outputs": [],
   "source": [
    "print(sample_module.func.__doc__)"
   ]
  },
  {
   "cell_type": "markdown",
   "metadata": {},
   "source": [
    "# <font color=\"red\">Numpy</font>\n",
    "\n",
    "- Numpy is a Python open-source library, which provides a multidimensional Python array object along with array-aware functions that operate on it.\n",
    "- Efficient array computing in Python: operates on in-memory arrays. \n",
    "- The critical thing to know is that Python `for` loops are very slow! One should try to use array-operations as much as possible.\n",
    "- It is implemented in C and Fortran so when calculations are vectorized (formulated with vectors and matrices), performance is very good."
   ]
  },
  {
   "cell_type": "code",
   "execution_count": null,
   "metadata": {},
   "outputs": [],
   "source": [
    "import numpy as np"
   ]
  },
  {
   "cell_type": "markdown",
   "metadata": {},
   "source": [
    "### Creating Numpy Arrays from LIsts"
   ]
  },
  {
   "cell_type": "code",
   "execution_count": null,
   "metadata": {},
   "outputs": [],
   "source": [
    "my_list = [1, 2, 3, 5]\n",
    "print(type(my_list))\n",
    "print(my_list)"
   ]
  },
  {
   "cell_type": "code",
   "execution_count": null,
   "metadata": {},
   "outputs": [],
   "source": [
    "np_array = np.array(my_list)\n",
    "print(type(np_array))\n",
    "print(np_array)"
   ]
  },
  {
   "cell_type": "markdown",
   "metadata": {},
   "source": [
    "Elements of a one-dimensional array are accessed with the same syntax as a list:"
   ]
  },
  {
   "cell_type": "code",
   "execution_count": null,
   "metadata": {},
   "outputs": [],
   "source": [
    "my_list[0]"
   ]
  },
  {
   "cell_type": "code",
   "execution_count": null,
   "metadata": {},
   "outputs": [],
   "source": [
    "np_array[0]"
   ]
  },
  {
   "cell_type": "code",
   "execution_count": null,
   "metadata": {},
   "outputs": [],
   "source": [
    "np_array[2:]"
   ]
  },
  {
   "cell_type": "markdown",
   "metadata": {},
   "source": [
    "### Using Numpy Functions"
   ]
  },
  {
   "cell_type": "code",
   "execution_count": null,
   "metadata": {},
   "outputs": [],
   "source": [
    "b = np.ones((3,2))\n",
    "print(b)\n",
    "print(b.shape)"
   ]
  },
  {
   "cell_type": "code",
   "execution_count": null,
   "metadata": {},
   "outputs": [],
   "source": [
    "c = np.zeros((1,3), int)\n",
    "print(c)\n",
    "print(type(c))\n",
    "print(c.dtype)"
   ]
  },
  {
   "cell_type": "code",
   "execution_count": null,
   "metadata": {},
   "outputs": [],
   "source": [
    "a = np.eye(5)\n",
    "print(a)"
   ]
  },
  {
   "cell_type": "code",
   "execution_count": null,
   "metadata": {},
   "outputs": [],
   "source": [
    "a = np.empty((2,3))\n",
    "print(a)"
   ]
  },
  {
   "cell_type": "code",
   "execution_count": null,
   "metadata": {},
   "outputs": [],
   "source": [
    "a = np.full((2,2), 3)\n",
    "print(a)"
   ]
  },
  {
   "cell_type": "code",
   "execution_count": null,
   "metadata": {},
   "outputs": [],
   "source": [
    "x = np.linspace(-5, 5, 11)\n",
    "print(x)"
   ]
  },
  {
   "cell_type": "markdown",
   "metadata": {},
   "source": [
    "### Array Inspection"
   ]
  },
  {
   "cell_type": "code",
   "execution_count": null,
   "metadata": {},
   "outputs": [],
   "source": [
    "print('Shape: ', x.shape)"
   ]
  },
  {
   "cell_type": "code",
   "execution_count": null,
   "metadata": {},
   "outputs": [],
   "source": [
    "print('Datatype: ', x.dtype)"
   ]
  },
  {
   "cell_type": "code",
   "execution_count": null,
   "metadata": {},
   "outputs": [],
   "source": [
    "print('Size: ', x.size)"
   ]
  },
  {
   "cell_type": "code",
   "execution_count": null,
   "metadata": {},
   "outputs": [],
   "source": [
    "print('Num Dimensions: ', x.ndim)"
   ]
  },
  {
   "cell_type": "code",
   "execution_count": null,
   "metadata": {},
   "outputs": [],
   "source": [
    "print('Num bytes per element: ', x.itemsize)"
   ]
  },
  {
   "cell_type": "code",
   "execution_count": null,
   "metadata": {},
   "outputs": [],
   "source": [
    "print('Num bytes: ', x.nbytes)"
   ]
  },
  {
   "cell_type": "markdown",
   "metadata": {},
   "source": [
    "### Array Slicing\n",
    "\n",
    "![fig_sl](https://media.geeksforgeeks.org/wp-content/uploads/Numpy1.jpg)\n",
    "Image Source: geeksforgeeks.org/numpy-indexing/"
   ]
  },
  {
   "cell_type": "markdown",
   "metadata": {},
   "source": [
    "# <font color=\"red\">Matplotlib</font>\n",
    "\n",
    "## <font color=\"red\">What is Matplotlib?</font>\n",
    "\n",
    "- Library for making 2D (and 3D in a limited way) plots of arrays in Python\n",
    "- Makes heavy use of Numpy and other extension code to provide good performance\n",
    "- Generates high-quality output in many formats, including PNG, PDF, SVG, EPS, and PGF.\n",
    "- Can be used to create figures that are programically controlled. This is important for reproducibility and convenient when one needs to regenerate the figure with updated data or change its appearance.\n",
    "- With Matplotlib, we can generate plots, histograms, power spectra, bar charts, error charts, scatter plots, etc., with just a few lines of code.\n",
    "\n",
    "### Basic Plotting Syntax\n",
    "\n",
    "| Syntax  | Meaning |\n",
    "| -- | -- |\n",
    "| x = [...]       | define the points on the x-axis |\n",
    "| y = [...]       | define the points on the y-axis |\n",
    "|  |   \n",
    "| plt.plot(x,y) | |\n",
    "| plt.show()      |  display the plot on the screen |"
   ]
  },
  {
   "cell_type": "code",
   "execution_count": null,
   "metadata": {},
   "outputs": [],
   "source": [
    "%matplotlib inline\n",
    "import numpy as np\n",
    "import matplotlib.pyplot as plt"
   ]
  },
  {
   "cell_type": "markdown",
   "metadata": {},
   "source": [
    "#### Simple plot"
   ]
  },
  {
   "cell_type": "code",
   "execution_count": null,
   "metadata": {},
   "outputs": [],
   "source": [
    "x = [2, 3, 5, 7, 11]\n",
    "y = [4, 9, 5, 9, 1]\n",
    "plt.plot(x, y, 'b')\n",
    "plt.xlabel('x')\n",
    "plt.ylabel('y')\n",
    "plt.title('Simple Plot')"
   ]
  },
  {
   "cell_type": "markdown",
   "metadata": {},
   "source": [
    "#### Simple Cosine Plot"
   ]
  },
  {
   "cell_type": "code",
   "execution_count": null,
   "metadata": {},
   "outputs": [],
   "source": [
    "t = np.arange(0.0, 1.0+0.01, 0.01)\n",
    "s = np.cos(2*2*np.pi*t)"
   ]
  },
  {
   "cell_type": "code",
   "execution_count": null,
   "metadata": {},
   "outputs": [],
   "source": [
    "plt.figure()\n",
    "plt.plot(t, s)\n",
    "plt.xlabel('Time (s)')\n",
    "plt.ylabel('Voltage (mV)')\n",
    "plt.title('Simple Cosine Plot')"
   ]
  },
  {
   "cell_type": "code",
   "execution_count": null,
   "metadata": {},
   "outputs": [],
   "source": []
  }
 ],
 "metadata": {
  "anaconda-cloud": {},
  "kernelspec": {
   "display_name": "Python 3 (ipykernel)",
   "language": "python",
   "name": "python3"
  },
  "language_info": {
   "codemirror_mode": {
    "name": "ipython",
    "version": 3
   },
   "file_extension": ".py",
   "mimetype": "text/x-python",
   "name": "python",
   "nbconvert_exporter": "python",
   "pygments_lexer": "ipython3",
   "version": "3.8.2"
  }
 },
 "nbformat": 4,
 "nbformat_minor": 4
}
