{
 "cells": [
  {
   "cell_type": "markdown",
   "metadata": {},
   "source": [
    "<center>\n",
    "<table>\n",
    "  <tr>\n",
    "    <td><img src=\"http://www.nasa.gov/sites/all/themes/custom/nasatwo/images/nasa-logo.svg\" width=\"100\"/> </td>\n",
    "     <td><img src=\"https://github.com/astg606/py_materials/blob/master/logos/ASTG_logo.png?raw=true\" width=\"80\"/> </td>\n",
    "     <td> <img src=\"https://www.nccs.nasa.gov/sites/default/files/NCCS_Logo_0.png\" width=\"130\"/> </td>\n",
    "      <td><img src=\"https://cdn.uconnectlabs.com/wp-content/uploads/sites/123/2021/08/OME-featured.png?v=14172\" width=\"150\"/> </td>\n",
    "    </tr>\n",
    "</table>\n",
    "</center>\n",
    "\n",
    "        \n",
    "<center>\n",
    "<h1><font color= \"blue\" size=\"+3\">ASTG Python Courses</font></h1>\n",
    "</center>\n",
    "\n",
    "---\n",
    "\n",
    "<center><h1>\n",
    "    <font color=\"red\">\n",
    "        MIT Momentum: Introduction to Python \n",
    "        <br> \n",
    "        Exercise\n",
    "    </font>  \n",
    "</h1></center>"
   ]
  },
  {
   "cell_type": "markdown",
   "metadata": {},
   "source": [
    "## <font color=\"blue\">Estimate the Value of Pi Using the Monte Carlo Method</font>\n",
    "\n",
    "Check the website:\n",
    "\n",
    "[Estimating the value of Pi using Monte Carlo](https://www.geeksforgeeks.org/estimating-value-pi-using-monte-carlo/)\n",
    "\n",
    "to find out how we can determine an approximation of the number $\\pi$.\n",
    "You can also see there a sample Python program to accomplish it. We want to modify the program to:\n",
    "- Only use Numpy arrays\n",
    "- Write a function that takes as argument an integer (number of points) and:\n",
    "   - Uses Matplotlib to plot draw a square (centered at the origin and with length 2), the unit circle (of radius 1) and all the selected points.\n",
    "   - Computes the estimated value of $\\pi$ and compares it against the actual value of $\\pi$."
   ]
  },
  {
   "cell_type": "markdown",
   "metadata": {},
   "source": [
    "### Here is the Python code to modify"
   ]
  },
  {
   "cell_type": "code",
   "execution_count": null,
   "metadata": {},
   "outputs": [],
   "source": [
    "import random\n",
    " \n",
    "INTERVAL = 1000\n",
    " \n",
    "circle_points = 0\n",
    "square_points = 0\n",
    " \n",
    "# Total Random numbers generated= possible x\n",
    "# values* possible y values\n",
    "for i in range(INTERVAL**2):\n",
    " \n",
    "    # Randomly generated x and y values from a\n",
    "    # uniform distribution\n",
    "    # Range of x and y values is -1 to 1\n",
    "    rand_x = random.uniform(-1, 1)\n",
    "    rand_y = random.uniform(-1, 1)\n",
    " \n",
    "    # Distance between (x, y) from the origin\n",
    "    origin_dist = rand_x**2 + rand_y**2\n",
    " \n",
    "    # Checking if (x, y) lies inside the circle\n",
    "    if origin_dist <= 1:\n",
    "        circle_points += 1\n",
    " \n",
    "    square_points += 1\n",
    " \n",
    "    # Estimating value of pi,\n",
    "    # pi= 4*(no. of points generated inside the\n",
    "    # circle)/ (no. of points generated inside the square)\n",
    "    pi = 4 * circle_points / square_points\n",
    " \n",
    " \n",
    "print(\"Final Estimation of Pi=\", pi)"
   ]
  },
  {
   "cell_type": "code",
   "execution_count": null,
   "metadata": {},
   "outputs": [],
   "source": []
  }
 ],
 "metadata": {
  "anaconda-cloud": {},
  "kernelspec": {
   "display_name": "Python 3 (ipykernel)",
   "language": "python",
   "name": "python3"
  },
  "language_info": {
   "codemirror_mode": {
    "name": "ipython",
    "version": 3
   },
   "file_extension": ".py",
   "mimetype": "text/x-python",
   "name": "python",
   "nbconvert_exporter": "python",
   "pygments_lexer": "ipython3",
   "version": "3.8.2"
  }
 },
 "nbformat": 4,
 "nbformat_minor": 4
}
