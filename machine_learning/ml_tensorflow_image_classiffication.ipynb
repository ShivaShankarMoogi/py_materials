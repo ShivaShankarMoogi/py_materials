{
 "cells": [
  {
   "cell_type": "markdown",
   "metadata": {},
   "source": [
    "<center>\n",
    "<table>\n",
    "  <tr>\n",
    "    <td><img src=\"http://www.nasa.gov/sites/all/themes/custom/nasatwo/images/nasa-logo.svg\" width=\"100\"/> </td>\n",
    "     <td><img src=\"https://github.com/astg606/py_materials/blob/master/logos/ASTG_logo.png?raw=true\" width=\"80\"/> </td>\n",
    "     <td> <img src=\"https://www.nccs.nasa.gov/sites/default/files/NCCS_Logo_0.png\" width=\"130\"/> </td>\n",
    "    </tr>\n",
    "</table>\n",
    "</center>\n",
    "\n",
    "        \n",
    "<center>\n",
    "<h1><font color= \"blue\" size=\"+3\">ASTG Python Courses</font></h1>\n",
    "</center>\n",
    "\n",
    "---\n",
    "\n",
    "<center>\n",
    "    <h1><font color=\"red\">Image Classification with Tensorflow</font></h1>\n",
    "</center>"
   ]
  },
  {
   "cell_type": "markdown",
   "metadata": {},
   "source": [
    "## Useful Reference\n",
    "\n",
    "- [MNIST digits classification with TensorFlow 2](https://github.com/antonio-f/TensorFlow2_digits_classification-Linear_Classifier-MLP/blob/master/TensorFlow2_digits_classification-Linear_Classifier-MLP/digits_classification.ipynb)\n",
    "- [Mnist handwritten digit classification using tensorflow](https://milindsoorya.site/blog/handwritten-digits-classification)\n",
    "- [A real example – recognizing handwritten digits](https://subscription.packtpub.com/book/data/9781838823412/1/ch01lvl1sec08/a-real-example-recognizing-handwritten-digits)\n",
    "- [DIFFERENCE BETWEEN SOFTMAX FUNCTION AND SIGMOID FUNCTION](https://dataaspirant.com/difference-between-softmax-function-and-sigmoid-function/)"
   ]
  },
  {
   "cell_type": "markdown",
   "metadata": {},
   "source": [
    "### Load the modules"
   ]
  },
  {
   "cell_type": "code",
   "execution_count": 1,
   "metadata": {},
   "outputs": [],
   "source": [
    "import warnings\n",
    "warnings.filterwarnings('ignore')"
   ]
  },
  {
   "cell_type": "code",
   "execution_count": 2,
   "metadata": {},
   "outputs": [],
   "source": [
    "%matplotlib inline\n",
    "import numpy as np\n",
    "import matplotlib\n",
    "import matplotlib.pyplot as plt\n",
    "from mpl_toolkits.mplot3d import Axes3D\n",
    "import pandas as pd\n",
    "import seaborn as sns\n",
    "import tensorflow as tf\n",
    "from tensorflow import keras\n",
    "from tensorflow.keras import layers\n",
    "#import tensorflow_datasets as tfds\n",
    "from tensorflow.keras.layers import Dense, Flatten, Conv2D\n",
    "from tensorflow.keras import Model"
   ]
  },
  {
   "cell_type": "code",
   "execution_count": 3,
   "metadata": {},
   "outputs": [
    {
     "name": "stdout",
     "output_type": "stream",
     "text": [
      "Version of Numpy:      1.23.2\n",
      "Version of Pandas:     1.3.4\n",
      "Version of Keras:      2.6.0\n",
      "Version of TensorFlow: 2.6.0\n"
     ]
    }
   ],
   "source": [
    "print(f\"Version of Numpy:      {np.__version__}\")\n",
    "print(f\"Version of Pandas:     {pd.__version__}\")\n",
    "print(f\"Version of Keras:      {tf.keras.__version__}\")\n",
    "print(f\"Version of TensorFlow: {tf.__version__}\")"
   ]
  },
  {
   "cell_type": "markdown",
   "metadata": {},
   "source": [
    "# <font color=\"red\">Image Classification</font> \n",
    "\n",
    "We use the [MNIST data set](http://yann.lecun.com/exdb/mnist/) (Modified National Institute of Standards and Technology database).\n",
    "\n",
    "* Is a large database of handwritten digits that is commonly used for training various image processing systems.\n",
    "* The database is also widely used for training and testing in the field of machine learning.\n",
    "* The dataset we will be using contains 70000 images of handwritten digits among which 10000 are reserved for testing.\n",
    "* It is a good database for people who want to try learning techniques and pattern recognition methods on real-world data while spending minimal efforts on preprocessing and formatting."
   ]
  },
  {
   "cell_type": "markdown",
   "metadata": {},
   "source": [
    "![TSF](https://static.javatpoint.com/tutorial/tensorflow/images/mnist-dataset-in-cnn.jpg)\n",
    "Image Source: [https://www.javatpoint.com/tensorflow-mnist-dataset-in-cnn](https://www.javatpoint.com/tensorflow-mnist-dataset-in-cnn)"
   ]
  },
  {
   "cell_type": "markdown",
   "metadata": {},
   "source": [
    "## <font color=\"blue\"> Load MNiST Dataset</font>"
   ]
  },
  {
   "cell_type": "code",
   "execution_count": 4,
   "metadata": {},
   "outputs": [],
   "source": [
    "(x_train, y_train), (x_test, y_test) = tf.keras.datasets.mnist.load_data()"
   ]
  },
  {
   "cell_type": "code",
   "execution_count": 5,
   "metadata": {},
   "outputs": [
    {
     "name": "stdout",
     "output_type": "stream",
     "text": [
      "Shape train inputs:   (60000, 28, 28)\n",
      "Shape train outputs:  (60000,)\n",
      "Shape test  inputs:   (10000, 28, 28)\n",
      "Shape test  outputs:  (10000,)\n"
     ]
    }
   ],
   "source": [
    "print(\"Shape train inputs:  \", x_train.shape)\n",
    "print(\"Shape train outputs: \", y_train.shape)\n",
    "print(\"Shape test  inputs:  \", x_test.shape)\n",
    "print(\"Shape test  outputs: \", y_test.shape)"
   ]
  },
  {
   "cell_type": "code",
   "execution_count": 6,
   "metadata": {},
   "outputs": [
    {
     "name": "stdout",
     "output_type": "stream",
     "text": [
      "IMAGE_WIDTH:  28\n",
      "IMAGE_HEIGHT: 28\n"
     ]
    }
   ],
   "source": [
    "# Save image parameters to the constants that we will use later \n",
    "# for data re-shaping and for model traning.\n",
    "(_, IMAGE_WIDTH, IMAGE_HEIGHT) = x_train.shape\n",
    "print(f'IMAGE_WIDTH:  {IMAGE_WIDTH}')\n",
    "print(f'IMAGE_HEIGHT: {IMAGE_HEIGHT}')"
   ]
  },
  {
   "cell_type": "code",
   "execution_count": 7,
   "metadata": {},
   "outputs": [
    {
     "name": "stdout",
     "output_type": "stream",
     "text": [
      "Type train inputs:   uint8\n",
      "Type train outputs:  uint8\n",
      "Type test  inputs:   uint8\n",
      "Type test  outputs:  uint8\n"
     ]
    }
   ],
   "source": [
    "print(\"Type train inputs:  \", x_train.dtype)\n",
    "print(\"Type train outputs: \", y_train.dtype)\n",
    "print(\"Type test  inputs:  \", x_test.dtype)\n",
    "print(\"Type test  outputs: \", y_test.dtype)"
   ]
  },
  {
   "cell_type": "code",
   "execution_count": 8,
   "metadata": {},
   "outputs": [
    {
     "data": {
      "text/plain": [
       "array([  0,   1,   2,   3,   4,   5,   6,   7,   8,   9,  10,  11,  12,\n",
       "        13,  14,  15,  16,  17,  18,  19,  20,  21,  22,  23,  24,  25,\n",
       "        26,  27,  28,  29,  30,  31,  32,  33,  34,  35,  36,  37,  38,\n",
       "        39,  40,  41,  42,  43,  44,  45,  46,  47,  48,  49,  50,  51,\n",
       "        52,  53,  54,  55,  56,  57,  58,  59,  60,  61,  62,  63,  64,\n",
       "        65,  66,  67,  68,  69,  70,  71,  72,  73,  74,  75,  76,  77,\n",
       "        78,  79,  80,  81,  82,  83,  84,  85,  86,  87,  88,  89,  90,\n",
       "        91,  92,  93,  94,  95,  96,  97,  98,  99, 100, 101, 102, 103,\n",
       "       104, 105, 106, 107, 108, 109, 110, 111, 112, 113, 114, 115, 116,\n",
       "       117, 118, 119, 120, 121, 122, 123, 124, 125, 126, 127, 128, 129,\n",
       "       130, 131, 132, 133, 134, 135, 136, 137, 138, 139, 140, 141, 142,\n",
       "       143, 144, 145, 146, 147, 148, 149, 150, 151, 152, 153, 154, 155,\n",
       "       156, 157, 158, 159, 160, 161, 162, 163, 164, 165, 166, 167, 168,\n",
       "       169, 170, 171, 172, 173, 174, 175, 176, 177, 178, 179, 180, 181,\n",
       "       182, 183, 184, 185, 186, 187, 188, 189, 190, 191, 192, 193, 194,\n",
       "       195, 196, 197, 198, 199, 200, 201, 202, 203, 204, 205, 206, 207,\n",
       "       208, 209, 210, 211, 212, 213, 214, 215, 216, 217, 218, 219, 220,\n",
       "       221, 222, 223, 224, 225, 226, 227, 228, 229, 230, 231, 232, 233,\n",
       "       234, 235, 236, 237, 238, 239, 240, 241, 242, 243, 244, 245, 246,\n",
       "       247, 248, 249, 250, 251, 252, 253, 254, 255], dtype=uint8)"
      ]
     },
     "execution_count": 8,
     "metadata": {},
     "output_type": "execute_result"
    }
   ],
   "source": [
    "np.unique(x_train)"
   ]
  },
  {
   "cell_type": "code",
   "execution_count": 9,
   "metadata": {},
   "outputs": [
    {
     "data": {
      "text/plain": [
       "array([  0,   1,   2,   3,   4,   5,   6,   7,   8,   9,  10,  11,  12,\n",
       "        13,  14,  15,  16,  17,  18,  19,  20,  21,  22,  23,  24,  25,\n",
       "        26,  27,  28,  29,  30,  31,  32,  33,  34,  35,  36,  37,  38,\n",
       "        39,  40,  41,  42,  43,  44,  45,  46,  47,  48,  49,  50,  51,\n",
       "        52,  53,  54,  55,  56,  57,  58,  59,  60,  61,  62,  63,  64,\n",
       "        65,  66,  67,  68,  69,  70,  71,  72,  73,  74,  75,  76,  77,\n",
       "        78,  79,  80,  81,  82,  83,  84,  85,  86,  87,  88,  89,  90,\n",
       "        91,  92,  93,  94,  95,  96,  97,  98,  99, 100, 101, 102, 103,\n",
       "       104, 105, 106, 107, 108, 109, 110, 111, 112, 113, 114, 115, 116,\n",
       "       117, 118, 119, 120, 121, 122, 123, 124, 125, 126, 127, 128, 129,\n",
       "       130, 131, 132, 133, 134, 135, 136, 137, 138, 139, 140, 141, 142,\n",
       "       143, 144, 145, 146, 147, 148, 149, 150, 151, 152, 153, 154, 155,\n",
       "       156, 157, 158, 159, 160, 161, 162, 163, 164, 165, 166, 167, 168,\n",
       "       169, 170, 171, 172, 173, 174, 175, 176, 177, 178, 179, 180, 181,\n",
       "       182, 183, 184, 185, 186, 187, 188, 189, 190, 191, 192, 193, 194,\n",
       "       195, 196, 197, 198, 199, 200, 201, 202, 203, 204, 205, 206, 207,\n",
       "       208, 209, 210, 211, 212, 213, 214, 215, 216, 217, 218, 219, 220,\n",
       "       221, 222, 223, 224, 225, 226, 227, 228, 229, 230, 231, 232, 233,\n",
       "       234, 235, 236, 237, 238, 239, 240, 241, 242, 243, 244, 245, 246,\n",
       "       247, 248, 249, 250, 251, 252, 253, 254, 255], dtype=uint8)"
      ]
     },
     "execution_count": 9,
     "metadata": {},
     "output_type": "execute_result"
    }
   ],
   "source": [
    "np.unique(x_test)"
   ]
  },
  {
   "cell_type": "code",
   "execution_count": 10,
   "metadata": {},
   "outputs": [
    {
     "data": {
      "text/plain": [
       "array([0, 1, 2, 3, 4, 5, 6, 7, 8, 9], dtype=uint8)"
      ]
     },
     "execution_count": 10,
     "metadata": {},
     "output_type": "execute_result"
    }
   ],
   "source": [
    "np.unique(y_train)"
   ]
  },
  {
   "cell_type": "code",
   "execution_count": 11,
   "metadata": {},
   "outputs": [
    {
     "data": {
      "text/plain": [
       "array([0, 1, 2, 3, 4, 5, 6, 7, 8, 9], dtype=uint8)"
      ]
     },
     "execution_count": 11,
     "metadata": {},
     "output_type": "execute_result"
    }
   ],
   "source": [
    "np.unique(y_test)"
   ]
  },
  {
   "cell_type": "markdown",
   "metadata": {},
   "source": [
    "#### Check an arbitrary image"
   ]
  },
  {
   "cell_type": "code",
   "execution_count": 13,
   "metadata": {},
   "outputs": [
    {
     "data": {
      "image/png": "[encoded data removed]",
      "text/plain": [
       "<Figure size 432x288 with 1 Axes>"
      ]
     },
     "metadata": {
      "needs_background": "light"
     },
     "output_type": "display_data"
    }
   ],
   "source": [
    "some_index = 15657\n",
    "some_digit = x_train[some_index]\n",
    "some_digit_image = some_digit.reshape(IMAGE_WIDTH, IMAGE_HEIGHT)\n",
    "\n",
    "plt.imshow(some_digit_image, \n",
    "           cmap = matplotlib.cm.binary, \n",
    "           interpolation='nearest')\n",
    "plt.axis=('off')"
   ]
  },
  {
   "cell_type": "code",
   "execution_count": 14,
   "metadata": {},
   "outputs": [
    {
     "name": "stdout",
     "output_type": "stream",
     "text": [
      "9\n"
     ]
    }
   ],
   "source": [
    "print(y_train[some_index])"
   ]
  },
  {
   "cell_type": "markdown",
   "metadata": {},
   "source": [
    "## <font color=\"blue\"> Preprocess the Training and Test Datasets</font>"
   ]
  },
  {
   "cell_type": "markdown",
   "metadata": {},
   "source": [
    "#### Change the data type\n",
    "\n",
    "- Change the type from integer to floating point. \n",
    "- This will reduce our memory requirements by forcing the precision of the pixel values to be 32 bit, the default precision used by `Keras` anyway."
   ]
  },
  {
   "cell_type": "code",
   "execution_count": 15,
   "metadata": {},
   "outputs": [],
   "source": [
    "x_train = x_train.astype('float32')\n",
    "x_test = x_test.astype('float32')"
   ]
  },
  {
   "cell_type": "code",
   "execution_count": 16,
   "metadata": {},
   "outputs": [
    {
     "name": "stdout",
     "output_type": "stream",
     "text": [
      "Train --> min = 0.0 max = 255.0\n",
      "Test  --> min = 0.0 max = 255.0\n"
     ]
    }
   ],
   "source": [
    "print(f\"Train --> min = {np.min(x_train)} max = {np.max(x_train)}\")\n",
    "print(f\"Test  --> min = {np.min(x_test)} max = {np.max(x_test)}\")"
   ]
  },
  {
   "cell_type": "markdown",
   "metadata": {},
   "source": [
    "#### Normalize the data\n",
    "- The values are from 0.0 to 255.0.\n",
    "- We want to have values between 0.0 and 1.0.\n",
    "- Normalizing the data generally speeds up trainning and leads to faster convergence."
   ]
  },
  {
   "cell_type": "code",
   "execution_count": 17,
   "metadata": {},
   "outputs": [],
   "source": [
    "x_train = x_train / 255.0\n",
    "x_test = x_test / 255.0"
   ]
  },
  {
   "cell_type": "code",
   "execution_count": 18,
   "metadata": {},
   "outputs": [
    {
     "name": "stdout",
     "output_type": "stream",
     "text": [
      "Train --> min = 0.0 max = 1.0\n",
      "Test  --> min = 0.0 max = 1.0\n"
     ]
    }
   ],
   "source": [
    "print(f\"Train --> min = {np.min(x_train)} max = {np.max(x_train)}\")\n",
    "print(f\"Test  --> min = {np.min(x_test)} max = {np.max(x_test)}\")"
   ]
  },
  {
   "cell_type": "markdown",
   "metadata": {},
   "source": [
    "#### Reshape the data\n",
    "\n",
    "- The training and test datasets are structured as a 3-dimensional array of instance, image width and image height. \n",
    "- For a multi-layer perceptron model we must reduce the images down into a vector of pixels. In this case the `IMAGE_WIDTH*IMAGE_HEIGHT` sized images will be 784 pixel input values.\n",
    "- We can do this transform easily using the `reshape()` function on the NumPy array."
   ]
  },
  {
   "cell_type": "code",
   "execution_count": 20,
   "metadata": {},
   "outputs": [
    {
     "name": "stdout",
     "output_type": "stream",
     "text": [
      "Shape of x_train: (60000, 28, 28)\n",
      "Shape of x_test:  (10000, 28, 28)\n"
     ]
    }
   ],
   "source": [
    "print(f\"Shape of x_train: {x_train.shape}\")\n",
    "print(f\"Shape of x_test:  {x_test.shape}\")"
   ]
  },
  {
   "cell_type": "code",
   "execution_count": 19,
   "metadata": {},
   "outputs": [],
   "source": [
    "x_train_reshape = x_train.reshape(x_train.shape[0], \n",
    "                                  IMAGE_WIDTH*IMAGE_HEIGHT)\n",
    "x_test_reshape = x_test.reshape(x_test.shape[0], \n",
    "                                IMAGE_WIDTH*IMAGE_HEIGHT)"
   ]
  },
  {
   "cell_type": "code",
   "execution_count": 21,
   "metadata": {},
   "outputs": [
    {
     "name": "stdout",
     "output_type": "stream",
     "text": [
      "Shape of x_train_reshape: (60000, 784)\n",
      "Shape of x_test_reshape:  (10000, 784)\n"
     ]
    }
   ],
   "source": [
    "print(f\"Shape of x_train_reshape: {x_train_reshape.shape}\")\n",
    "print(f\"Shape of x_test_reshape:  {x_test_reshape.shape}\")"
   ]
  },
  {
   "cell_type": "markdown",
   "metadata": {},
   "source": [
    "#### Convert class vectors to binary class matrices\n",
    "\n",
    "- The targets have 10 possible integer values: `0, 1, 2, ..., 9`.\n",
    "- We use the `to_categorical` function to convert integer targets into categorical.\n",
    "  - For instance, `2` would become `[0, 0, 1, 0, 0, 0, 0, 0, 0, 0]` (it’s zero-indexed).\n",
    "- We do it because `Keras` will expect the training targets to be 10-dimensional vectors, since there will be 10 nodes in the output layer."
   ]
  },
  {
   "cell_type": "code",
   "execution_count": 22,
   "metadata": {},
   "outputs": [],
   "source": [
    "num_classes = 10\n",
    "y_train_convert = tf.keras.utils.to_categorical(y_train, num_classes)\n",
    "y_test_convert = tf.keras.utils.to_categorical(y_test, num_classes)"
   ]
  },
  {
   "cell_type": "code",
   "execution_count": 23,
   "metadata": {},
   "outputs": [
    {
     "name": "stdout",
     "output_type": "stream",
     "text": [
      "[0. 0. 0. 0. 0. 0. 0. 0. 0. 1.]\n"
     ]
    }
   ],
   "source": [
    "print(y_train_convert[some_index])"
   ]
  },
  {
   "cell_type": "markdown",
   "metadata": {},
   "source": [
    "## <font color=\"blue\"> Model 1: Simple Sequential Model</font>\n",
    "\n",
    "Architecture of the Network is:\n",
    "\n",
    "1. Input layer for `IMAGE_WIDTH*IMAGE_HEIGHT = 28x28 = 784` images in MNiST dataset\n",
    "2. Dense layer with 128 neurons and ReLU activation function\n",
    "3. Output layer with 10 neurons for classification of input images as one of ten digits (0 to 9)\n",
    "\n",
    "#### Remarks\n",
    "- We add a regularization `Dropout` layer to randomly exclude a portion of the neurons (here 20%) in the layer in order to reduce overfitting.\n",
    "- A `softmax` activation function is used on the output layer to turn the outputs into probability-like values and allow one class of the 10 to be selected as the model’s output prediction.\n",
    "  - Converts the result into a probability distribution.\n",
    "  - Calculates probabilities of each target class over all possible target classes\n",
    "  - The values of the output vector are in range (0, 1) and sum to 1. \n",
    "  - `softmax` of input `x` is calculated by function `exp(x)/tf.reduce_sum(exp(x))`."
   ]
  },
  {
   "cell_type": "code",
   "execution_count": 24,
   "metadata": {},
   "outputs": [
    {
     "name": "stderr",
     "output_type": "stream",
     "text": [
      "2022-11-07 18:12:14.416531: I tensorflow/core/platform/cpu_feature_guard.cc:142] This TensorFlow binary is optimized with oneAPI Deep Neural Network Library (oneDNN) to use the following CPU instructions in performance-critical operations:  AVX2 AVX512F FMA\n",
      "To enable them in other operations, rebuild TensorFlow with the appropriate compiler flags.\n"
     ]
    }
   ],
   "source": [
    "one_layer_model = tf.keras.models.Sequential()\n",
    "one_layer_model.add(tf.keras.layers.Dense(\n",
    "    128, \n",
    "    activation='relu', \n",
    "    input_shape=(IMAGE_WIDTH*IMAGE_HEIGHT,)))\n",
    "one_layer_model.add(tf.keras.layers.Dropout(0.2))\n",
    "one_layer_model.add(tf.keras.layers.Dense(10, activation='softmax'))"
   ]
  },
  {
   "cell_type": "code",
   "execution_count": 25,
   "metadata": {},
   "outputs": [
    {
     "name": "stdout",
     "output_type": "stream",
     "text": [
      "Model: \"sequential\"\n",
      "_________________________________________________________________\n",
      "Layer (type)                 Output Shape              Param #   \n",
      "=================================================================\n",
      "dense (Dense)                (None, 128)               100480    \n",
      "_________________________________________________________________\n",
      "dropout (Dropout)            (None, 128)               0         \n",
      "_________________________________________________________________\n",
      "dense_1 (Dense)              (None, 10)                1290      \n",
      "=================================================================\n",
      "Total params: 101,770\n",
      "Trainable params: 101,770\n",
      "Non-trainable params: 0\n",
      "_________________________________________________________________\n"
     ]
    }
   ],
   "source": [
    "one_layer_model.summary()"
   ]
  },
  {
   "cell_type": "code",
   "execution_count": 26,
   "metadata": {},
   "outputs": [],
   "source": [
    "#tf.keras.utils.plot_model(\n",
    "#    one_layer_model,\n",
    "#    show_shapes=True,\n",
    "#    show_layer_names=True,\n",
    "#)"
   ]
  },
  {
   "cell_type": "markdown",
   "metadata": {},
   "source": [
    "### <font color=\"red\">Compile the Model</font>\n",
    "\n",
    "Before the model is ready for training, it needs a few more settings. These are added during the model's compile step:\n",
    "\n",
    "- Loss function This measures how accurate the model is during training. You want to minimize this function to \"steer\" the model in the right direction.\n",
    "- Optimizer This is how the model is updated based on the data it sees and its loss function.\n",
    "- Metrics Used to monitor the training and testing steps. The following example uses accuracy, the fraction of the images that are correctly classified.\n",
    "\n",
    "![MLP](https://m0nads.files.wordpress.com/2021/01/linear_classifier.png)\n",
    "Image Source: m0nads.wordpress.com"
   ]
  },
  {
   "cell_type": "code",
   "execution_count": 27,
   "metadata": {},
   "outputs": [],
   "source": [
    "one_layer_model.compile(loss='categorical_crossentropy',\n",
    "                        optimizer=tf.keras.optimizers.RMSprop(),\n",
    "                        metrics=['accuracy'])"
   ]
  },
  {
   "cell_type": "markdown",
   "metadata": {},
   "source": [
    "### <font color=\"red\"> Training and Validation</font>\n",
    "\n",
    "The `one_layer_model.fit` method adjusts the model parameters to minimize the loss:"
   ]
  },
  {
   "cell_type": "code",
   "execution_count": 28,
   "metadata": {},
   "outputs": [],
   "source": [
    "num_epochs = 10\n",
    "batch_size = 16"
   ]
  },
  {
   "cell_type": "code",
   "execution_count": 29,
   "metadata": {},
   "outputs": [
    {
     "name": "stderr",
     "output_type": "stream",
     "text": [
      "2022-11-07 18:13:17.223176: I tensorflow/compiler/mlir/mlir_graph_optimization_pass.cc:185] None of the MLIR Optimization Passes are enabled (registered 2)\n"
     ]
    },
    {
     "name": "stdout",
     "output_type": "stream",
     "text": [
      "Epoch 1/10\n",
      "3750/3750 [==============================] - 5s 1ms/step - loss: 0.2770 - accuracy: 0.9195 - val_loss: 0.1386 - val_accuracy: 0.9615\n",
      "Epoch 2/10\n",
      "3750/3750 [==============================] - 4s 1ms/step - loss: 0.1578 - accuracy: 0.9560 - val_loss: 0.1240 - val_accuracy: 0.9660\n",
      "Epoch 3/10\n",
      "3750/3750 [==============================] - 4s 1ms/step - loss: 0.1401 - accuracy: 0.9645 - val_loss: 0.1151 - val_accuracy: 0.9728\n",
      "Epoch 4/10\n",
      "3750/3750 [==============================] - 4s 1ms/step - loss: 0.1265 - accuracy: 0.9694 - val_loss: 0.1121 - val_accuracy: 0.9748\n",
      "Epoch 5/10\n",
      "3750/3750 [==============================] - 4s 1ms/step - loss: 0.1222 - accuracy: 0.9713 - val_loss: 0.1266 - val_accuracy: 0.9741\n",
      "Epoch 6/10\n",
      "3750/3750 [==============================] - 4s 1ms/step - loss: 0.1170 - accuracy: 0.9725 - val_loss: 0.1166 - val_accuracy: 0.9752\n",
      "Epoch 7/10\n",
      "3750/3750 [==============================] - 4s 1ms/step - loss: 0.1166 - accuracy: 0.9747 - val_loss: 0.1186 - val_accuracy: 0.9747\n",
      "Epoch 8/10\n",
      "3750/3750 [==============================] - 4s 1ms/step - loss: 0.1132 - accuracy: 0.9764 - val_loss: 0.1288 - val_accuracy: 0.9757\n",
      "Epoch 9/10\n",
      "3750/3750 [==============================] - 4s 1ms/step - loss: 0.1092 - accuracy: 0.9761 - val_loss: 0.1355 - val_accuracy: 0.9762\n",
      "Epoch 10/10\n",
      "3750/3750 [==============================] - 5s 1ms/step - loss: 0.1096 - accuracy: 0.9775 - val_loss: 0.1269 - val_accuracy: 0.9765\n"
     ]
    }
   ],
   "source": [
    "one_layer_history = one_layer_model.fit(\n",
    "    x_train_reshape, \n",
    "    y_train_convert,\n",
    "    batch_size = batch_size,\n",
    "    epochs = num_epochs,\n",
    "    verbose = 1, \n",
    "    validation_data = (x_test_reshape, y_test_convert))"
   ]
  },
  {
   "cell_type": "markdown",
   "metadata": {},
   "source": [
    "### <font color=\"red\"> Plot the Deceasing Loss over Epochs</font>\n",
    "\n",
    "Use Pandas to plot a graph showing the decrease in mean squared error (mse) as training improves the model."
   ]
  },
  {
   "cell_type": "code",
   "execution_count": 30,
   "metadata": {},
   "outputs": [
    {
     "data": {
      "text/html": [
       "<div>\n",
       "<style scoped>\n",
       "    .dataframe tbody tr th:only-of-type {\n",
       "        vertical-align: middle;\n",
       "    }\n",
       "\n",
       "    .dataframe tbody tr th {\n",
       "        vertical-align: top;\n",
       "    }\n",
       "\n",
       "    .dataframe thead th {\n",
       "        text-align: right;\n",
       "    }\n",
       "</style>\n",
       "<table border=\"1\" class=\"dataframe\">\n",
       "  <thead>\n",
       "    <tr style=\"text-align: right;\">\n",
       "      <th></th>\n",
       "      <th>loss</th>\n",
       "      <th>accuracy</th>\n",
       "      <th>val_loss</th>\n",
       "      <th>val_accuracy</th>\n",
       "    </tr>\n",
       "  </thead>\n",
       "  <tbody>\n",
       "    <tr>\n",
       "      <th>0</th>\n",
       "      <td>0.276959</td>\n",
       "      <td>0.919500</td>\n",
       "      <td>0.138583</td>\n",
       "      <td>0.9615</td>\n",
       "    </tr>\n",
       "    <tr>\n",
       "      <th>1</th>\n",
       "      <td>0.157808</td>\n",
       "      <td>0.956000</td>\n",
       "      <td>0.123986</td>\n",
       "      <td>0.9660</td>\n",
       "    </tr>\n",
       "    <tr>\n",
       "      <th>2</th>\n",
       "      <td>0.140078</td>\n",
       "      <td>0.964483</td>\n",
       "      <td>0.115107</td>\n",
       "      <td>0.9728</td>\n",
       "    </tr>\n",
       "    <tr>\n",
       "      <th>3</th>\n",
       "      <td>0.126458</td>\n",
       "      <td>0.969450</td>\n",
       "      <td>0.112079</td>\n",
       "      <td>0.9748</td>\n",
       "    </tr>\n",
       "    <tr>\n",
       "      <th>4</th>\n",
       "      <td>0.122156</td>\n",
       "      <td>0.971333</td>\n",
       "      <td>0.126572</td>\n",
       "      <td>0.9741</td>\n",
       "    </tr>\n",
       "    <tr>\n",
       "      <th>5</th>\n",
       "      <td>0.116955</td>\n",
       "      <td>0.972550</td>\n",
       "      <td>0.116580</td>\n",
       "      <td>0.9752</td>\n",
       "    </tr>\n",
       "    <tr>\n",
       "      <th>6</th>\n",
       "      <td>0.116643</td>\n",
       "      <td>0.974700</td>\n",
       "      <td>0.118605</td>\n",
       "      <td>0.9747</td>\n",
       "    </tr>\n",
       "    <tr>\n",
       "      <th>7</th>\n",
       "      <td>0.113176</td>\n",
       "      <td>0.976400</td>\n",
       "      <td>0.128830</td>\n",
       "      <td>0.9757</td>\n",
       "    </tr>\n",
       "    <tr>\n",
       "      <th>8</th>\n",
       "      <td>0.109195</td>\n",
       "      <td>0.976067</td>\n",
       "      <td>0.135472</td>\n",
       "      <td>0.9762</td>\n",
       "    </tr>\n",
       "    <tr>\n",
       "      <th>9</th>\n",
       "      <td>0.109559</td>\n",
       "      <td>0.977467</td>\n",
       "      <td>0.126870</td>\n",
       "      <td>0.9765</td>\n",
       "    </tr>\n",
       "  </tbody>\n",
       "</table>\n",
       "</div>"
      ],
      "text/plain": [
       "       loss  accuracy  val_loss  val_accuracy\n",
       "0  0.276959  0.919500  0.138583        0.9615\n",
       "1  0.157808  0.956000  0.123986        0.9660\n",
       "2  0.140078  0.964483  0.115107        0.9728\n",
       "3  0.126458  0.969450  0.112079        0.9748\n",
       "4  0.122156  0.971333  0.126572        0.9741\n",
       "5  0.116955  0.972550  0.116580        0.9752\n",
       "6  0.116643  0.974700  0.118605        0.9747\n",
       "7  0.113176  0.976400  0.128830        0.9757\n",
       "8  0.109195  0.976067  0.135472        0.9762\n",
       "9  0.109559  0.977467  0.126870        0.9765"
      ]
     },
     "execution_count": 30,
     "metadata": {},
     "output_type": "execute_result"
    }
   ],
   "source": [
    "hist_df = pd.DataFrame(one_layer_history.history)\n",
    "hist_df"
   ]
  },
  {
   "cell_type": "code",
   "execution_count": 31,
   "metadata": {},
   "outputs": [
    {
     "data": {
      "image/png": "[encoded data removed]",
      "text/plain": [
       "<Figure size 432x288 with 1 Axes>"
      ]
     },
     "metadata": {
      "needs_background": "light"
     },
     "output_type": "display_data"
    }
   ],
   "source": [
    "hist_df[['loss', 'val_loss']].plot(xlabel='Epochs', \n",
    "                                   ylabel='Loss', \n",
    "                                   title='Loss');"
   ]
  },
  {
   "cell_type": "code",
   "execution_count": 32,
   "metadata": {},
   "outputs": [
    {
     "data": {
      "image/png": "[encoded data removed]",
      "text/plain": [
       "<Figure size 432x288 with 1 Axes>"
      ]
     },
     "metadata": {
      "needs_background": "light"
     },
     "output_type": "display_data"
    }
   ],
   "source": [
    "hist_df[['accuracy', 'val_accuracy']].plot(xlabel='Epochs', \n",
    "                                   ylabel='Accuracy', \n",
    "                                   title='Accuracy');"
   ]
  },
  {
   "cell_type": "markdown",
   "metadata": {},
   "source": [
    "### <font color=\"red\"> Evaluate the Model</font>\n",
    "\n",
    "The `mnist_model.evaluate` method checks the models performance, usually on a \"Validation-set\" or \"Test-set\"."
   ]
  },
  {
   "cell_type": "code",
   "execution_count": 33,
   "metadata": {},
   "outputs": [
    {
     "name": "stdout",
     "output_type": "stream",
     "text": [
      "Test loss:     0.12687000632286072\n",
      "Test accuracy: 0.9764999747276306\n"
     ]
    }
   ],
   "source": [
    "score = one_layer_model.evaluate(x_test_reshape,  \n",
    "                                 y_test_convert, \n",
    "                                 verbose=0)\n",
    "print(f'Test loss:     {score[0]}')\n",
    "print(f'Test accuracy: {score[1]}')"
   ]
  },
  {
   "cell_type": "markdown",
   "metadata": {},
   "source": [
    "### <font color=\"red\"> Visualize Predictions</font>"
   ]
  },
  {
   "cell_type": "code",
   "execution_count": 34,
   "metadata": {},
   "outputs": [],
   "source": [
    "def display_digits(X, y):\n",
    "    \"\"\"\n",
    "      Given an array of images of digits X and \n",
    "      the corresponding values of the digit y,\n",
    "      this function plots the first 96 images and their values.\n",
    "    \"\"\"\n",
    "    # Figure size (width, height) in inches\n",
    "    fig = plt.figure(figsize=(8, 6))\n",
    "\n",
    "    # Adjust the subplots \n",
    "    fig.subplots_adjust(left=0, right=1, bottom=0, top=1, hspace=0.05, wspace=0.05)\n",
    "\n",
    "    for i in range(96):\n",
    "        # Initialize the subplots: \n",
    "        #    Add a subplot in the grid of 8 by 12, at the i+1-th position\n",
    "        ax = fig.add_subplot(8, 12, i + 1, xticks=[], yticks=[])\n",
    "        \n",
    "        # Display an image at the i-th position\n",
    "        ax.imshow(X[i].reshape(28, 28), cmap=plt.cm.binary, interpolation='nearest')\n",
    "       \n",
    "        # label the image with the target value\n",
    "        ax.text(0, 7, str(y[i]))\n",
    "\n",
    "    # Show the plot\n",
    "    plt.show()"
   ]
  },
  {
   "cell_type": "code",
   "execution_count": 35,
   "metadata": {},
   "outputs": [],
   "source": [
    "probabilities = one_layer_model.predict(x_test_reshape, steps=1)"
   ]
  },
  {
   "cell_type": "code",
   "execution_count": 36,
   "metadata": {},
   "outputs": [
    {
     "data": {
      "text/plain": [
       "(10000, 10)"
      ]
     },
     "execution_count": 36,
     "metadata": {},
     "output_type": "execute_result"
    }
   ],
   "source": [
    "probabilities.shape"
   ]
  },
  {
   "cell_type": "code",
   "execution_count": 37,
   "metadata": {},
   "outputs": [
    {
     "data": {
      "text/plain": [
       "array([8.3957103e-28, 4.9881738e-32, 3.1000212e-22, 2.9714861e-14,\n",
       "       1.2595857e-35, 5.9434251e-19, 0.0000000e+00, 1.0000000e+00,\n",
       "       1.7650515e-23, 5.9741114e-19], dtype=float32)"
      ]
     },
     "execution_count": 37,
     "metadata": {},
     "output_type": "execute_result"
    }
   ],
   "source": [
    "probabilities[0]"
   ]
  },
  {
   "cell_type": "markdown",
   "metadata": {},
   "source": [
    "We use the `numpy.argmax` function to return the indices of the maximum values along an axis."
   ]
  },
  {
   "cell_type": "code",
   "execution_count": 38,
   "metadata": {},
   "outputs": [],
   "source": [
    "one_layer_predicted_labels = np.argmax(probabilities, axis=1)"
   ]
  },
  {
   "cell_type": "code",
   "execution_count": 39,
   "metadata": {},
   "outputs": [
    {
     "data": {
      "text/plain": [
       "7"
      ]
     },
     "execution_count": 39,
     "metadata": {},
     "output_type": "execute_result"
    }
   ],
   "source": [
    "one_layer_predicted_labels[0]"
   ]
  },
  {
   "cell_type": "code",
   "execution_count": 41,
   "metadata": {},
   "outputs": [
    {
     "data": {
      "image/png": "[encoded data removed]",
      "text/plain": [
       "<Figure size 576x432 with 96 Axes>"
      ]
     },
     "metadata": {},
     "output_type": "display_data"
    }
   ],
   "source": [
    "display_digits(x_test_reshape, one_layer_predicted_labels)"
   ]
  },
  {
   "cell_type": "markdown",
   "metadata": {},
   "source": [
    "### <font color=\"red\">Confusion Matrix for Validation</font>\n",
    "\n",
    "- We can use the confusion matrix to have a picture of our prediction.\n",
    "- A number `n` in a cell means that we predicted the value in the truth row as the value in the predicted column, `n` times. \n",
    "- All the diagonal elements are correct predictions.\n",
    "- In the example below, the black cells, value shows the wrong predictions. "
   ]
  },
  {
   "cell_type": "code",
   "execution_count": 42,
   "metadata": {},
   "outputs": [
    {
     "data": {
      "image/png": "[encoded data removed]",
      "text/plain": [
       "<Figure size 720x504 with 2 Axes>"
      ]
     },
     "metadata": {
      "needs_background": "light"
     },
     "output_type": "display_data"
    }
   ],
   "source": [
    "cm = tf.math.confusion_matrix(labels=y_test, \n",
    "                              predictions=one_layer_predicted_labels)\n",
    "\n",
    "plt.figure(figsize = (10,7))\n",
    "sns.heatmap(cm, annot=True, fmt='d');\n",
    "plt.xlabel('Predicted');\n",
    "plt.ylabel('Truth');"
   ]
  },
  {
   "cell_type": "code",
   "execution_count": 43,
   "metadata": {},
   "outputs": [],
   "source": [
    "def determine_accuracy(cmatrix):\n",
    "    cm_values = cmatrix.numpy()\n",
    "    l = cm_values.shape[0]\n",
    "    diag = [cm_values[i, i] for i in range(l)]\n",
    "    \n",
    "    pds = pd.Series(y_test)\n",
    "\n",
    "    org_total = pds.value_counts().sort_index()\n",
    "    org_percent = (pds.value_counts()/pds.count()).sort_values().sort_index()*100\n",
    "    pred_accu = (pd.Series(diag)/org_total)*100\n",
    "    idx = ['zero', 'one', 'two', 'three', 'four',\n",
    "          'five', 'six', 'seven', 'eight', 'nine']\n",
    "\n",
    "    keys = ['Original Total', 'Predicted Total', 'Predicted Accuracy']\n",
    "    accu_data = pd.concat([org_total, pd.Series(diag), pred_accu], \n",
    "                             axis=1, keys=keys)\n",
    "\n",
    "    accu_data.index = idx\n",
    "    return accu_data"
   ]
  },
  {
   "cell_type": "code",
   "execution_count": 44,
   "metadata": {},
   "outputs": [
    {
     "data": {
      "text/html": [
       "<div>\n",
       "<style scoped>\n",
       "    .dataframe tbody tr th:only-of-type {\n",
       "        vertical-align: middle;\n",
       "    }\n",
       "\n",
       "    .dataframe tbody tr th {\n",
       "        vertical-align: top;\n",
       "    }\n",
       "\n",
       "    .dataframe thead th {\n",
       "        text-align: right;\n",
       "    }\n",
       "</style>\n",
       "<table border=\"1\" class=\"dataframe\">\n",
       "  <thead>\n",
       "    <tr style=\"text-align: right;\">\n",
       "      <th></th>\n",
       "      <th>Original Total</th>\n",
       "      <th>Predicted Total</th>\n",
       "      <th>Predicted Accuracy</th>\n",
       "    </tr>\n",
       "  </thead>\n",
       "  <tbody>\n",
       "    <tr>\n",
       "      <th>zero</th>\n",
       "      <td>980</td>\n",
       "      <td>969</td>\n",
       "      <td>98.877551</td>\n",
       "    </tr>\n",
       "    <tr>\n",
       "      <th>one</th>\n",
       "      <td>1135</td>\n",
       "      <td>1125</td>\n",
       "      <td>99.118943</td>\n",
       "    </tr>\n",
       "    <tr>\n",
       "      <th>two</th>\n",
       "      <td>1032</td>\n",
       "      <td>996</td>\n",
       "      <td>96.511628</td>\n",
       "    </tr>\n",
       "    <tr>\n",
       "      <th>three</th>\n",
       "      <td>1010</td>\n",
       "      <td>995</td>\n",
       "      <td>98.514851</td>\n",
       "    </tr>\n",
       "    <tr>\n",
       "      <th>four</th>\n",
       "      <td>982</td>\n",
       "      <td>959</td>\n",
       "      <td>97.657841</td>\n",
       "    </tr>\n",
       "    <tr>\n",
       "      <th>five</th>\n",
       "      <td>892</td>\n",
       "      <td>868</td>\n",
       "      <td>97.309417</td>\n",
       "    </tr>\n",
       "    <tr>\n",
       "      <th>six</th>\n",
       "      <td>958</td>\n",
       "      <td>932</td>\n",
       "      <td>97.286013</td>\n",
       "    </tr>\n",
       "    <tr>\n",
       "      <th>seven</th>\n",
       "      <td>1028</td>\n",
       "      <td>1006</td>\n",
       "      <td>97.859922</td>\n",
       "    </tr>\n",
       "    <tr>\n",
       "      <th>eight</th>\n",
       "      <td>974</td>\n",
       "      <td>938</td>\n",
       "      <td>96.303901</td>\n",
       "    </tr>\n",
       "    <tr>\n",
       "      <th>nine</th>\n",
       "      <td>1009</td>\n",
       "      <td>977</td>\n",
       "      <td>96.828543</td>\n",
       "    </tr>\n",
       "  </tbody>\n",
       "</table>\n",
       "</div>"
      ],
      "text/plain": [
       "       Original Total  Predicted Total  Predicted Accuracy\n",
       "zero              980              969           98.877551\n",
       "one              1135             1125           99.118943\n",
       "two              1032              996           96.511628\n",
       "three            1010              995           98.514851\n",
       "four              982              959           97.657841\n",
       "five              892              868           97.309417\n",
       "six               958              932           97.286013\n",
       "seven            1028             1006           97.859922\n",
       "eight             974              938           96.303901\n",
       "nine             1009              977           96.828543"
      ]
     },
     "execution_count": 44,
     "metadata": {},
     "output_type": "execute_result"
    }
   ],
   "source": [
    "accuracy_data = determine_accuracy(cm)\n",
    "accuracy_data"
   ]
  },
  {
   "cell_type": "markdown",
   "metadata": {},
   "source": [
    "### <font color=\"red\">Save the Model</font>"
   ]
  },
  {
   "cell_type": "code",
   "execution_count": null,
   "metadata": {},
   "outputs": [],
   "source": [
    "one_layer_model.save('one_layer_model')"
   ]
  },
  {
   "cell_type": "markdown",
   "metadata": {},
   "source": [
    "Then to reload the model later, we can use this:"
   ]
  },
  {
   "cell_type": "code",
   "execution_count": null,
   "metadata": {},
   "outputs": [],
   "source": [
    "from tensorflow.keras.models import load_model\n",
    "model = load_model('one_layer_model')"
   ]
  },
  {
   "cell_type": "markdown",
   "metadata": {},
   "source": [
    "## <font color=\"blue\"> Model 2: Add a Hidden Layer</font>"
   ]
  },
  {
   "cell_type": "code",
   "execution_count": 45,
   "metadata": {},
   "outputs": [],
   "source": [
    "two_layer_model = tf.keras.models.Sequential([\n",
    "    tf.keras.layers.Flatten(input_shape=(IMAGE_WIDTH*IMAGE_HEIGHT, )),\n",
    "    tf.keras.layers.Dense(256, activation=tf.nn.sigmoid),\n",
    "    tf.keras.layers.Dense(256, activation=tf.nn.sigmoid),\n",
    "    tf.keras.layers.Dense(10)])"
   ]
  },
  {
   "cell_type": "code",
   "execution_count": 46,
   "metadata": {},
   "outputs": [
    {
     "name": "stdout",
     "output_type": "stream",
     "text": [
      "Model: \"sequential_1\"\n",
      "_________________________________________________________________\n",
      "Layer (type)                 Output Shape              Param #   \n",
      "=================================================================\n",
      "flatten (Flatten)            (None, 784)               0         \n",
      "_________________________________________________________________\n",
      "dense_2 (Dense)              (None, 256)               200960    \n",
      "_________________________________________________________________\n",
      "dense_3 (Dense)              (None, 256)               65792     \n",
      "_________________________________________________________________\n",
      "dense_4 (Dense)              (None, 10)                2570      \n",
      "=================================================================\n",
      "Total params: 269,322\n",
      "Trainable params: 269,322\n",
      "Non-trainable params: 0\n",
      "_________________________________________________________________\n"
     ]
    }
   ],
   "source": [
    "two_layer_model.summary()"
   ]
  },
  {
   "cell_type": "code",
   "execution_count": 47,
   "metadata": {},
   "outputs": [],
   "source": [
    "two_layer_model.compile(optimizer='adam',\n",
    "                           loss=tf.keras.losses.SparseCategoricalCrossentropy(from_logits=True),\n",
    "                           metrics=['accuracy'])"
   ]
  },
  {
   "cell_type": "code",
   "execution_count": 48,
   "metadata": {},
   "outputs": [
    {
     "name": "stdout",
     "output_type": "stream",
     "text": [
      "Epoch 1/10\n",
      "3750/3750 [==============================] - 5s 1ms/step - loss: 0.3134 - accuracy: 0.9074\n",
      "Epoch 2/10\n",
      "3750/3750 [==============================] - 5s 1ms/step - loss: 0.1240 - accuracy: 0.9625\n",
      "Epoch 3/10\n",
      "3750/3750 [==============================] - 5s 1ms/step - loss: 0.0804 - accuracy: 0.9750\n",
      "Epoch 4/10\n",
      "3750/3750 [==============================] - 5s 1ms/step - loss: 0.0578 - accuracy: 0.9818\n",
      "Epoch 5/10\n",
      "3750/3750 [==============================] - 5s 1ms/step - loss: 0.0418 - accuracy: 0.9868\n",
      "Epoch 6/10\n",
      "3750/3750 [==============================] - 5s 1ms/step - loss: 0.0322 - accuracy: 0.9896\n",
      "Epoch 7/10\n",
      "3750/3750 [==============================] - 5s 1ms/step - loss: 0.0233 - accuracy: 0.9923\n",
      "Epoch 8/10\n",
      "3750/3750 [==============================] - 5s 1ms/step - loss: 0.0190 - accuracy: 0.9939\n",
      "Epoch 9/10\n",
      "3750/3750 [==============================] - 5s 1ms/step - loss: 0.0161 - accuracy: 0.9945\n",
      "Epoch 10/10\n",
      "3750/3750 [==============================] - 5s 1ms/step - loss: 0.0116 - accuracy: 0.9963\n"
     ]
    }
   ],
   "source": [
    "two_layer_history = two_layer_model.fit(\n",
    "    x_train_reshape, \n",
    "    y_train, \n",
    "    batch_size = batch_size,\n",
    "    epochs=num_epochs)"
   ]
  },
  {
   "cell_type": "code",
   "execution_count": 49,
   "metadata": {},
   "outputs": [
    {
     "data": {
      "text/html": [
       "<div>\n",
       "<style scoped>\n",
       "    .dataframe tbody tr th:only-of-type {\n",
       "        vertical-align: middle;\n",
       "    }\n",
       "\n",
       "    .dataframe tbody tr th {\n",
       "        vertical-align: top;\n",
       "    }\n",
       "\n",
       "    .dataframe thead th {\n",
       "        text-align: right;\n",
       "    }\n",
       "</style>\n",
       "<table border=\"1\" class=\"dataframe\">\n",
       "  <thead>\n",
       "    <tr style=\"text-align: right;\">\n",
       "      <th></th>\n",
       "      <th>loss</th>\n",
       "      <th>accuracy</th>\n",
       "    </tr>\n",
       "  </thead>\n",
       "  <tbody>\n",
       "    <tr>\n",
       "      <th>0</th>\n",
       "      <td>0.313370</td>\n",
       "      <td>0.907383</td>\n",
       "    </tr>\n",
       "    <tr>\n",
       "      <th>1</th>\n",
       "      <td>0.123959</td>\n",
       "      <td>0.962550</td>\n",
       "    </tr>\n",
       "    <tr>\n",
       "      <th>2</th>\n",
       "      <td>0.080389</td>\n",
       "      <td>0.974983</td>\n",
       "    </tr>\n",
       "    <tr>\n",
       "      <th>3</th>\n",
       "      <td>0.057845</td>\n",
       "      <td>0.981767</td>\n",
       "    </tr>\n",
       "    <tr>\n",
       "      <th>4</th>\n",
       "      <td>0.041792</td>\n",
       "      <td>0.986783</td>\n",
       "    </tr>\n",
       "    <tr>\n",
       "      <th>5</th>\n",
       "      <td>0.032169</td>\n",
       "      <td>0.989600</td>\n",
       "    </tr>\n",
       "    <tr>\n",
       "      <th>6</th>\n",
       "      <td>0.023296</td>\n",
       "      <td>0.992267</td>\n",
       "    </tr>\n",
       "    <tr>\n",
       "      <th>7</th>\n",
       "      <td>0.018971</td>\n",
       "      <td>0.993867</td>\n",
       "    </tr>\n",
       "    <tr>\n",
       "      <th>8</th>\n",
       "      <td>0.016125</td>\n",
       "      <td>0.994533</td>\n",
       "    </tr>\n",
       "    <tr>\n",
       "      <th>9</th>\n",
       "      <td>0.011580</td>\n",
       "      <td>0.996283</td>\n",
       "    </tr>\n",
       "  </tbody>\n",
       "</table>\n",
       "</div>"
      ],
      "text/plain": [
       "       loss  accuracy\n",
       "0  0.313370  0.907383\n",
       "1  0.123959  0.962550\n",
       "2  0.080389  0.974983\n",
       "3  0.057845  0.981767\n",
       "4  0.041792  0.986783\n",
       "5  0.032169  0.989600\n",
       "6  0.023296  0.992267\n",
       "7  0.018971  0.993867\n",
       "8  0.016125  0.994533\n",
       "9  0.011580  0.996283"
      ]
     },
     "execution_count": 49,
     "metadata": {},
     "output_type": "execute_result"
    }
   ],
   "source": [
    "hist_df = pd.DataFrame(two_layer_history.history)\n",
    "hist_df"
   ]
  },
  {
   "cell_type": "code",
   "execution_count": 50,
   "metadata": {},
   "outputs": [
    {
     "data": {
      "image/png": "[encoded data removed]",
      "text/plain": [
       "<Figure size 432x288 with 1 Axes>"
      ]
     },
     "metadata": {
      "needs_background": "light"
     },
     "output_type": "display_data"
    }
   ],
   "source": [
    "hist_df['loss'].plot(xlabel='Epochs', \n",
    "                     ylabel='Loss', \n",
    "                     title='Loss');"
   ]
  },
  {
   "cell_type": "code",
   "execution_count": 51,
   "metadata": {},
   "outputs": [
    {
     "data": {
      "image/png": "[encoded data removed]",
      "text/plain": [
       "<Figure size 432x288 with 1 Axes>"
      ]
     },
     "metadata": {
      "needs_background": "light"
     },
     "output_type": "display_data"
    }
   ],
   "source": [
    "hist_df['accuracy'].plot(xlabel='Epochs', \n",
    "                     ylabel='Accuracy', \n",
    "                     title='Accuracy');"
   ]
  },
  {
   "cell_type": "code",
   "execution_count": 52,
   "metadata": {},
   "outputs": [
    {
     "name": "stdout",
     "output_type": "stream",
     "text": [
      "Test loss:     0.09964160621166229\n",
      "Test accuracy: 0.9768999814987183\n"
     ]
    }
   ],
   "source": [
    "score = two_layer_model.evaluate(x_test_reshape,  \n",
    "                                 y_test, \n",
    "                                 verbose=0)\n",
    "print(f'Test loss:     {score[0]}')\n",
    "print(f'Test accuracy: {score[1]}')"
   ]
  },
  {
   "cell_type": "code",
   "execution_count": 53,
   "metadata": {},
   "outputs": [],
   "source": [
    "predictions = two_layer_model.predict(x_test_reshape)\n",
    "two_layer_predicted_labels = np.argmax(predictions, axis=1)"
   ]
  },
  {
   "cell_type": "code",
   "execution_count": 54,
   "metadata": {},
   "outputs": [
    {
     "name": "stdout",
     "output_type": "stream",
     "text": [
      "[7 2 1 0 4 1 4 9 5 9]\n",
      "[7 2 1 0 4 1 4 9 5 9]\n"
     ]
    }
   ],
   "source": [
    "print(y_test[:10])\n",
    "print(two_layer_predicted_labels[:10])"
   ]
  },
  {
   "cell_type": "code",
   "execution_count": 55,
   "metadata": {},
   "outputs": [
    {
     "data": {
      "image/png": "[encoded data removed]",
      "text/plain": [
       "<Figure size 720x504 with 2 Axes>"
      ]
     },
     "metadata": {
      "needs_background": "light"
     },
     "output_type": "display_data"
    }
   ],
   "source": [
    "cm = tf.math.confusion_matrix(labels=y_test, \n",
    "                              predictions=two_layer_predicted_labels)\n",
    "\n",
    "plt.figure(figsize = (10,7))\n",
    "sns.heatmap(cm, annot=True, fmt='d');\n",
    "plt.xlabel('Predicted');\n",
    "plt.ylabel('Truth');"
   ]
  },
  {
   "cell_type": "code",
   "execution_count": 56,
   "metadata": {},
   "outputs": [
    {
     "data": {
      "text/html": [
       "<div>\n",
       "<style scoped>\n",
       "    .dataframe tbody tr th:only-of-type {\n",
       "        vertical-align: middle;\n",
       "    }\n",
       "\n",
       "    .dataframe tbody tr th {\n",
       "        vertical-align: top;\n",
       "    }\n",
       "\n",
       "    .dataframe thead th {\n",
       "        text-align: right;\n",
       "    }\n",
       "</style>\n",
       "<table border=\"1\" class=\"dataframe\">\n",
       "  <thead>\n",
       "    <tr style=\"text-align: right;\">\n",
       "      <th></th>\n",
       "      <th>Original Total</th>\n",
       "      <th>Predicted Total</th>\n",
       "      <th>Predicted Accuracy</th>\n",
       "    </tr>\n",
       "  </thead>\n",
       "  <tbody>\n",
       "    <tr>\n",
       "      <th>zero</th>\n",
       "      <td>980</td>\n",
       "      <td>974</td>\n",
       "      <td>99.387755</td>\n",
       "    </tr>\n",
       "    <tr>\n",
       "      <th>one</th>\n",
       "      <td>1135</td>\n",
       "      <td>1116</td>\n",
       "      <td>98.325991</td>\n",
       "    </tr>\n",
       "    <tr>\n",
       "      <th>two</th>\n",
       "      <td>1032</td>\n",
       "      <td>1012</td>\n",
       "      <td>98.062016</td>\n",
       "    </tr>\n",
       "    <tr>\n",
       "      <th>three</th>\n",
       "      <td>1010</td>\n",
       "      <td>987</td>\n",
       "      <td>97.722772</td>\n",
       "    </tr>\n",
       "    <tr>\n",
       "      <th>four</th>\n",
       "      <td>982</td>\n",
       "      <td>926</td>\n",
       "      <td>94.297352</td>\n",
       "    </tr>\n",
       "    <tr>\n",
       "      <th>five</th>\n",
       "      <td>892</td>\n",
       "      <td>877</td>\n",
       "      <td>98.318386</td>\n",
       "    </tr>\n",
       "    <tr>\n",
       "      <th>six</th>\n",
       "      <td>958</td>\n",
       "      <td>936</td>\n",
       "      <td>97.703549</td>\n",
       "    </tr>\n",
       "    <tr>\n",
       "      <th>seven</th>\n",
       "      <td>1028</td>\n",
       "      <td>1004</td>\n",
       "      <td>97.665370</td>\n",
       "    </tr>\n",
       "    <tr>\n",
       "      <th>eight</th>\n",
       "      <td>974</td>\n",
       "      <td>942</td>\n",
       "      <td>96.714579</td>\n",
       "    </tr>\n",
       "    <tr>\n",
       "      <th>nine</th>\n",
       "      <td>1009</td>\n",
       "      <td>995</td>\n",
       "      <td>98.612488</td>\n",
       "    </tr>\n",
       "  </tbody>\n",
       "</table>\n",
       "</div>"
      ],
      "text/plain": [
       "       Original Total  Predicted Total  Predicted Accuracy\n",
       "zero              980              974           99.387755\n",
       "one              1135             1116           98.325991\n",
       "two              1032             1012           98.062016\n",
       "three            1010              987           97.722772\n",
       "four              982              926           94.297352\n",
       "five              892              877           98.318386\n",
       "six               958              936           97.703549\n",
       "seven            1028             1004           97.665370\n",
       "eight             974              942           96.714579\n",
       "nine             1009              995           98.612488"
      ]
     },
     "execution_count": 56,
     "metadata": {},
     "output_type": "execute_result"
    }
   ],
   "source": [
    "accuracy_data = determine_accuracy(cm)\n",
    "accuracy_data"
   ]
  },
  {
   "cell_type": "code",
   "execution_count": null,
   "metadata": {},
   "outputs": [],
   "source": []
  }
 ],
 "metadata": {
  "kernelspec": {
   "display_name": "Python 3 (ipykernel)",
   "language": "python",
   "name": "python3"
  },
  "language_info": {
   "codemirror_mode": {
    "name": "ipython",
    "version": 3
   },
   "file_extension": ".py",
   "mimetype": "text/x-python",
   "name": "python",
   "nbconvert_exporter": "python",
   "pygments_lexer": "ipython3",
   "version": "3.8.2"
  }
 },
 "nbformat": 4,
 "nbformat_minor": 2
}
