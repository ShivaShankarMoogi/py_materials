{
 "cells": [
  {
   "cell_type": "markdown",
   "metadata": {},
   "source": [
    "<center>\n",
    "<table>\n",
    "  <tr>\n",
    "    <td><img src=\"http://www.nasa.gov/sites/all/themes/custom/nasatwo/images/nasa-logo.svg\" width=\"100\"/> </td>\n",
    "     <td><img src=\"https://github.com/astg606/py_materials/blob/master/logos/ASTG_logo.png?raw=true\" width=\"80\"/> </td>\n",
    "     <td> <img src=\"https://www.nccs.nasa.gov/sites/default/files/NCCS_Logo_0.png\" width=\"130\"/> </td>\n",
    "    </tr>\n",
    "</table>\n",
    "</center>\n",
    "\n",
    "        \n",
    "<center>\n",
    "<h1><font color= \"blue\" size=\"+3\">ASTG Python Courses</font></h1>\n",
    "</center>\n",
    "\n",
    "---\n",
    "\n",
    "<center><h1> <font color=\"red\">Reading MODIS hdf Files using pyhdf</font></h1></center>"
   ]
  },
  {
   "cell_type": "markdown",
   "metadata": {},
   "source": [
    "## <font color=\"red\">Primary References/Resources</font>\n",
    "\n",
    "- [Moderate Resolution Imaging Spectrometer (MODIS)](https://modis.gsfc.nasa.gov/data/)\n",
    "- [HDF-EOS Comprehensive Examples page](http://hdfeos.org/zoo/)\n",
    "- [How to read a MODIS HDF4 file using python and pyhdf ?](https://moonbooks.org/Articles/How-to-read-a-MODIS-HDF-file-using-python-/)\n",
    "- [SD (scientific dataset) API (pyhdf.SD)](http://fhs.github.io/pyhdf/modules/SD.html) "
   ]
  },
  {
   "cell_type": "markdown",
   "metadata": {},
   "source": [
    "### Import Statements:"
   ]
  },
  {
   "cell_type": "code",
   "execution_count": null,
   "metadata": {},
   "outputs": [],
   "source": [
    "import os\n",
    "import pprint\n",
    "import glob"
   ]
  },
  {
   "cell_type": "code",
   "execution_count": null,
   "metadata": {},
   "outputs": [],
   "source": [
    "%matplotlib inline\n",
    "import matplotlib.pyplot as plt\n",
    "import hvplot.xarray\n",
    "from cartopy import crs as ccrs\n",
    "import cartopy.feature as cfeature\n",
    "import cartopy.io.shapereader as shapereader\n",
    "from cartopy.mpl.ticker import LongitudeFormatter, LatitudeFormatter"
   ]
  },
  {
   "cell_type": "code",
   "execution_count": null,
   "metadata": {},
   "outputs": [],
   "source": [
    "import numpy as np\n",
    "import xarray as xr"
   ]
  },
  {
   "cell_type": "code",
   "execution_count": null,
   "metadata": {},
   "outputs": [],
   "source": [
    "from pyhdf.SD import SD\n",
    "from pyhdf.SD import SDS\n",
    "from pyhdf.SD import SDC\n",
    "from pyhdf.SD import SDim\n",
    "from pyhdf.SD import SDAttr"
   ]
  },
  {
   "cell_type": "code",
   "execution_count": null,
   "metadata": {},
   "outputs": [],
   "source": [
    "# Toggles off alphabetical sorting\n",
    "pprint.sorted = lambda x, key=None:x"
   ]
  },
  {
   "cell_type": "markdown",
   "metadata": {},
   "source": [
    "## <font color=\"red\">MODIS File Naming Conventions</font>\n",
    "\n",
    "- [MODIS Naming Conventions](https://lpdaac.usgs.gov/data/get-started-data/collection-overview/missions/modis-overview/#:~:text=MODIS%20Filenames,A2019159.)\n",
    "- [MODIS Level-2 Hierarchical Data Format (HDF)](https://modis-images.gsfc.nasa.gov/MOD07_L2/filename.html)\n",
    "- [MODIS/VIIRS Land Product Subsets](https://modis.ornl.gov/documentation.html)\n",
    "\n",
    "\n",
    "MODIS filenames follow a naming convention which gives useful information regarding the specific product. The filename `MOD09A1.A2006001.h08v05.005.2006012234657.hdf` indicates:\n",
    "\n",
    "- `MOD09A1`: Product Short Name\n",
    "- `A2006001`: Julian Date of Acquisition (A-YYYYDDD)\n",
    "- `h08v05`: Tile Identifier (horizontalXXverticalYY)\n",
    "- `005`: Collection Version\n",
    "- `2006012234567`: Julian Date of Production (YYYYDDDHHMMSS)\n",
    "- `hdf`: Data Format (HDF-EOS)"
   ]
  },
  {
   "cell_type": "markdown",
   "metadata": {},
   "source": [
    "## <font color=\"red\"> Accessing a Sample HDF4 Data Files</font>"
   ]
  },
  {
   "cell_type": "markdown",
   "metadata": {},
   "source": [
    "Directory where the MODIS files are located:"
   ]
  },
  {
   "cell_type": "code",
   "execution_count": null,
   "metadata": {},
   "outputs": [],
   "source": [
    "#data_dir = \"/Users/jkouatch/myTasks/PythonTraining/ASTG606/Materials/sat_data/MODIS_Data/\"\n",
    "data_dir = \"/tljh-data/sat_data/MODIS_Data\""
   ]
  },
  {
   "cell_type": "markdown",
   "metadata": {},
   "source": [
    "Full path to the file names:"
   ]
  },
  {
   "cell_type": "code",
   "execution_count": null,
   "metadata": {},
   "outputs": [],
   "source": [
    "file_name = os.path.join(data_dir, \"MOD021KM.A2015013.1240.006.2015014140954.hdf\")\n",
    "geo_file_name = os.path.join(data_dir, \"MOD03.A2015013.1240.006.2015013194359.hdf\")"
   ]
  },
  {
   "cell_type": "markdown",
   "metadata": {},
   "source": [
    "Name of the field of interest:"
   ]
  },
  {
   "cell_type": "code",
   "execution_count": null,
   "metadata": {},
   "outputs": [],
   "source": [
    "field_name = \"EV_Band26\""
   ]
  },
  {
   "cell_type": "markdown",
   "metadata": {},
   "source": [
    "### <font color=\"blue\"> Opening the Files</font>\n",
    "\n",
    "Opening files for reading:"
   ]
  },
  {
   "cell_type": "code",
   "execution_count": null,
   "metadata": {},
   "outputs": [],
   "source": [
    "fid = SD(file_name, SDC.READ)\n",
    "geo_fid = SD(geo_file_name, SDC.READ)"
   ]
  },
  {
   "cell_type": "markdown",
   "metadata": {},
   "source": [
    "Basic information on the files:\n",
    "\n",
    "- The first number indicates the number of datasets in the file (not to be confused w/ xarray datasets)\n",
    "- The second number indicates the number of attributes attached to the global file."
   ]
  },
  {
   "cell_type": "code",
   "execution_count": null,
   "metadata": {},
   "outputs": [],
   "source": [
    "fid.info()"
   ]
  },
  {
   "cell_type": "code",
   "execution_count": null,
   "metadata": {},
   "outputs": [],
   "source": [
    "geo_fid.info()"
   ]
  },
  {
   "cell_type": "markdown",
   "metadata": {},
   "source": [
    "#### File Attributes\n",
    "\n",
    "- We can access the file attributes which hold important global metadata."
   ]
  },
  {
   "cell_type": "code",
   "execution_count": null,
   "metadata": {},
   "outputs": [],
   "source": [
    "file_attrs = fid.attributes()\n",
    "pprint.pprint(file_attrs)"
   ]
  },
  {
   "cell_type": "markdown",
   "metadata": {},
   "source": [
    "We can also access the datasets' names and basic info such as shape and dimension labels"
   ]
  },
  {
   "cell_type": "code",
   "execution_count": null,
   "metadata": {},
   "outputs": [],
   "source": [
    "file_dts = fid.datasets()\n",
    "pprint.pprint(file_dts)"
   ]
  },
  {
   "cell_type": "code",
   "execution_count": null,
   "metadata": {},
   "outputs": [],
   "source": [
    "for index, name in enumerate(file_dts.keys(), start=1):\n",
    "    print(index, name)"
   ]
  },
  {
   "cell_type": "markdown",
   "metadata": {},
   "source": [
    "### <font color=\"blue\">Data Extraction as NumPy Arrays</font>\n",
    "\n",
    "Let's assume that we want to extract data from the field `EV_Band26`."
   ]
  },
  {
   "cell_type": "markdown",
   "metadata": {},
   "source": [
    "The `select()` method from the `SD` class allows us to extract a dataset (object) given it's name or index number."
   ]
  },
  {
   "cell_type": "code",
   "execution_count": null,
   "metadata": {},
   "outputs": [],
   "source": [
    "sample_ds = fid.select(field_name)"
   ]
  },
  {
   "cell_type": "markdown",
   "metadata": {},
   "source": [
    "Get basic information from the dataset:\n",
    "\n",
    "- The `info()` function in the `SDS` class allows us to get the dataset name, rank, dimension lengths, data type, and number of attributes."
   ]
  },
  {
   "cell_type": "code",
   "execution_count": null,
   "metadata": {},
   "outputs": [],
   "source": [
    "sample_ds.info()"
   ]
  },
  {
   "cell_type": "markdown",
   "metadata": {},
   "source": [
    "List the dataset attributes:"
   ]
  },
  {
   "cell_type": "code",
   "execution_count": null,
   "metadata": {},
   "outputs": [],
   "source": [
    "attrs = sample_ds.attributes()\n",
    "attrs"
   ]
  },
  {
   "cell_type": "markdown",
   "metadata": {},
   "source": [
    "#### Extract the data\n",
    "\n",
    "- We can retrieve and store the data itself as a NumPy array using the `get()` function."
   ]
  },
  {
   "cell_type": "code",
   "execution_count": null,
   "metadata": {},
   "outputs": [],
   "source": [
    "sample_data = sample_ds.get()"
   ]
  },
  {
   "cell_type": "markdown",
   "metadata": {},
   "source": [
    "Confirms that the data has been stored as a NumPy array."
   ]
  },
  {
   "cell_type": "code",
   "execution_count": null,
   "metadata": {},
   "outputs": [],
   "source": [
    "print(\"Dataset Class Type: \", type(sample_data))"
   ]
  },
  {
   "cell_type": "markdown",
   "metadata": {},
   "source": [
    "Just like any NumPy array, we can get the shape and dtype."
   ]
  },
  {
   "cell_type": "code",
   "execution_count": null,
   "metadata": {
    "scrolled": true
   },
   "outputs": [],
   "source": [
    "sample_data.shape"
   ]
  },
  {
   "cell_type": "code",
   "execution_count": null,
   "metadata": {},
   "outputs": [],
   "source": [
    "sample_data.dtype"
   ]
  },
  {
   "cell_type": "markdown",
   "metadata": {},
   "source": [
    "We need to change the type from integer to float:"
   ]
  },
  {
   "cell_type": "code",
   "execution_count": null,
   "metadata": {},
   "outputs": [],
   "source": [
    "sample_data = sample_data.astype(np.double)"
   ]
  },
  {
   "cell_type": "markdown",
   "metadata": {},
   "source": [
    "### Get the dataset attributes"
   ]
  },
  {
   "cell_type": "code",
   "execution_count": null,
   "metadata": {},
   "outputs": [],
   "source": [
    "attrs = sample_ds.attributes(full=1)\n",
    "\n",
    "long_name = attrs[\"long_name\"][0]\n",
    "add_offset = attrs[\"radiance_offsets\"][0]\n",
    "_FillValue = attrs[\"_FillValue\"][0]\n",
    "scale_factor = attrs[\"radiance_scales\"][0]       \n",
    "valid_min = attrs[\"valid_range\"][0][0]        \n",
    "valid_max = attrs[\"valid_range\"][0][1]        \n",
    "units = attrs[\"radiance_units\"][0]"
   ]
  },
  {
   "cell_type": "markdown",
   "metadata": {},
   "source": [
    "### Use the attributes to restore the data"
   ]
  },
  {
   "cell_type": "code",
   "execution_count": null,
   "metadata": {},
   "outputs": [],
   "source": [
    "def restore_data(data, scale_factor, add_offset,  _FillValue, \n",
    "                 valid_min, valid_max):\n",
    "    \"\"\"\n",
    "       Use the attributes to:\n",
    "        1- Select the values within the valid range\n",
    "        2- Mask the filled values\n",
    "        3- To apply the offset and scale to the data\n",
    "    \"\"\"\n",
    "    invalid = np.logical_or(data > valid_max, data < valid_min)\n",
    "    invalid = np.logical_or(invalid, data == _FillValue)\n",
    "    data[invalid] = np.nan\n",
    "    data = (data - add_offset) * scale_factor \n",
    "    data = np.ma.masked_array(data, np.isnan(data))\n",
    "    return data"
   ]
  },
  {
   "cell_type": "code",
   "execution_count": null,
   "metadata": {},
   "outputs": [],
   "source": [
    "data = restore_data(sample_data, scale_factor, add_offset,  _FillValue, \n",
    "                 valid_min, valid_max)"
   ]
  },
  {
   "cell_type": "code",
   "execution_count": null,
   "metadata": {},
   "outputs": [],
   "source": [
    "print(sample_data.min(), sample_data.max())"
   ]
  },
  {
   "cell_type": "code",
   "execution_count": null,
   "metadata": {},
   "outputs": [],
   "source": [
    "print(data.min(), data.max())"
   ]
  },
  {
   "cell_type": "markdown",
   "metadata": {},
   "source": [
    "### Read geolocation dataset from MOD03 product."
   ]
  },
  {
   "cell_type": "code",
   "execution_count": null,
   "metadata": {},
   "outputs": [],
   "source": [
    "lats = geo_fid.select('Latitude').get()\n",
    "lats.shape"
   ]
  },
  {
   "cell_type": "code",
   "execution_count": null,
   "metadata": {},
   "outputs": [],
   "source": [
    "lons = geo_fid.select('Longitude').get()\n",
    "lons.shape"
   ]
  },
  {
   "cell_type": "markdown",
   "metadata": {},
   "source": [
    "### Use Cartopy to plot the data"
   ]
  },
  {
   "cell_type": "code",
   "execution_count": null,
   "metadata": {},
   "outputs": [],
   "source": [
    "map_projection = ccrs.PlateCarree()\n",
    "data_transform = ccrs.PlateCarree()\n",
    "\n",
    "#Create the figure object with the dimansion of the figure\n",
    "subplot_kw = dict(projection=map_projection)\n",
    "fig, ax = plt.subplots(1, 1,\n",
    "                       figsize=(15, 9),\n",
    "                       subplot_kw=subplot_kw)\n",
    "\n",
    "#ax = fig.add_subplot(1, 1, 1, projection=map_projection)\n",
    "\n",
    "# Map features\n",
    "map_res = '50m'\n",
    "ax.coastlines(resolution=map_res, linewidth=1.0)\n",
    "ax.add_feature(cfeature.LAND, edgecolor='black', linewidth=1.0)\n",
    "ax.add_feature(cfeature.BORDERS, edgecolor='black', linewidth=1.0)\n",
    "lakes_res = cfeature.NaturalEarthFeature('physical', 'lakes', map_res)\n",
    "ax.add_feature(lakes_res,edgecolor='black',facecolor='None',linewidth=1.0)\n",
    "ax.add_feature(cfeature.NaturalEarthFeature('cultural', 'admin_1_states_provinces_lines',\n",
    "                                      map_res, edgecolor='black', facecolor='None',\n",
    "                                      linewidth=1.0))\n",
    "\n",
    "#ax.set_extent([-180, 180, -90, 90], ccrs.PlateCarree())\n",
    "\n",
    "im = ax.pcolormesh(lons, lats, data, transform=map_projection)\n",
    "\n",
    "cbar = fig.colorbar(im, ax=ax,  orientation=\"horizontal\", shrink=0.75)\n",
    "cbar.ax.tick_params(labelsize=15)\n",
    "cbar.set_label(units, labelpad=+1)\n",
    "\n",
    "# ---> Ticks and labels\n",
    "gl = ax.gridlines(crs=map_projection, draw_labels=True,\n",
    "                  linewidth=2, color='gray', alpha=0.5, linestyle='--')\n",
    "gl.xlabels_top = False\n",
    "gl.ylabels_right = False\n",
    "\n",
    "lon_formatter = LongitudeFormatter(zero_direction_label=True)\n",
    "lat_formatter = LatitudeFormatter()\n",
    "ax.xaxis.set_major_formatter(lon_formatter)\n",
    "ax.yaxis.set_major_formatter(lat_formatter)\n",
    "ax.xaxis.label.set_size(20)\n",
    "ax.yaxis.label.set_size(20)\n"
   ]
  },
  {
   "cell_type": "markdown",
   "metadata": {},
   "source": [
    "## <font color=\"red\">Application</font>\n",
    "\n",
    "- Takes a collection of MODIS data files\n",
    "- Loop over the files:\n",
    "     - Select only the files which horizontal coverage fall within a prescribed latitude range\n",
    "     - Perform a global plot on a selected field\n"
   ]
  },
  {
   "cell_type": "markdown",
   "metadata": {},
   "source": [
    "Field of interest:"
   ]
  },
  {
   "cell_type": "code",
   "execution_count": null,
   "metadata": {},
   "outputs": [],
   "source": [
    "DATAFIELD_NAME = 'LST'"
   ]
  },
  {
   "cell_type": "markdown",
   "metadata": {},
   "source": [
    "Latidude range of the area of interest:"
   ]
  },
  {
   "cell_type": "code",
   "execution_count": null,
   "metadata": {},
   "outputs": [],
   "source": [
    "min_lat = -55.0\n",
    "max_lat =  60.0"
   ]
  },
  {
   "cell_type": "markdown",
   "metadata": {},
   "source": [
    "Map Settings:"
   ]
  },
  {
   "cell_type": "code",
   "execution_count": null,
   "metadata": {},
   "outputs": [],
   "source": [
    "map_projection = ccrs.PlateCarree()\n",
    "data_transform = ccrs.PlateCarree()\n",
    "\n",
    "#Create the figure object with the dimansion of the figure\n",
    "subplot_kw = dict(projection=map_projection)\n",
    "fig, ax = plt.subplots(1, 1,\n",
    "                       figsize=(15, 9),\n",
    "                       subplot_kw=subplot_kw)\n",
    "\n",
    "#ax = fig.add_subplot(1, 1, 1, projection=map_projection)\n",
    "\n",
    "# Map features\n",
    "map_res = '50m'\n",
    "ax.coastlines(resolution=map_res, linewidth=1.0)\n",
    "ax.add_feature(cfeature.LAND, edgecolor='black', linewidth=1.0)\n",
    "ax.add_feature(cfeature.BORDERS, edgecolor='black', linewidth=1.0)\n",
    "lakes_res = cfeature.NaturalEarthFeature('physical', 'lakes', map_res)\n",
    "ax.add_feature(lakes_res,edgecolor='black',facecolor='None',linewidth=1.0)\n",
    "ax.add_feature(cfeature.NaturalEarthFeature('cultural', \n",
    "                                            'admin_1_states_provinces_lines',\n",
    "                                      map_res, edgecolor='black', facecolor='None',\n",
    "                                      linewidth=1.0))\n",
    "\n",
    "ax.set_extent([-180, 180, -90, 90], ccrs.PlateCarree())\n",
    "\n",
    "# Get the list of possible files to process:\n",
    "\n",
    "list_files = glob.glob(data_dir+'MOD11_*.hdf')\n",
    "\n",
    "# Loop over the files and do the plot:\n",
    "\n",
    "for fname in list_files:\n",
    "    basename = os.path.basename(fname)\n",
    "    fname_GEO = glob.glob(data_dir+'MOD03.'+basename[9:26]+'*hdf')[0]\n",
    "    hdf_geo = SD(fname_GEO, SDC.READ)\n",
    "    latitude = hdf_geo.select('Latitude')\n",
    "    lat = latitude[:,:]\n",
    "\n",
    "    # Only consider the the data file which horizontal coverage \n",
    "    # overlaps with the prescribed latitude rangnge\n",
    "    if np.min(lat)<min_lat or np.max(lat)>max_lat:\n",
    "        print(f\"Rejecting the files: \\n\\t {fname} \\n\\t {fname_GEO}\")\n",
    "        continue\n",
    "\n",
    "    longitude = hdf_geo.select('Longitude')\n",
    "    lon = longitude[:,:]\n",
    "\n",
    "    print(f\"Processing the files: \\n\\t {fname} \\n\\t {fname_GEO}\")\n",
    "\n",
    "    # Read dataset.\n",
    "    hdf = SD(fname, SDC.READ)\n",
    "\n",
    "    data2D = hdf.select(DATAFIELD_NAME)\n",
    "    data = data2D[:,:].astype(np.double)\n",
    "\n",
    "    # Get the dataset attributes\n",
    "    attrs = data2D.attributes(full=1)\n",
    "    long_name = attrs[\"long_name\"][0]\n",
    "    add_offset = attrs[\"add_offset\"][0]\n",
    "    _FillValue = attrs[\"_FillValue\"][0]\n",
    "    scale_factor = attrs[\"scale_factor\"][0]\n",
    "    valid_min = attrs[\"valid_range\"][0][0]\n",
    "    valid_max = attrs[\"valid_range\"][0][1]\n",
    "    units = attrs[\"units\"][0]\n",
    "\n",
    "    data = restore_data(data, scale_factor, add_offset,  _FillValue,\n",
    "                        valid_min, valid_max)\n",
    "\n",
    "    # Plot the data\n",
    "    im = ax.pcolormesh(lon, lat, data, transform=map_projection)\n",
    "    \n",
    "# Add a colorbar\n",
    "cbar = fig.colorbar(im, ax=ax,  orientation=\"horizontal\", shrink=0.75)\n",
    "cbar.ax.tick_params(labelsize=15)\n",
    "cbar.set_label(units, labelpad=+1)\n",
    "\n",
    "# ---> Ticks and labels\n",
    "gl = ax.gridlines(crs=map_projection, draw_labels=True,\n",
    "                  linewidth=2, color='gray', alpha=0.5, linestyle='--')\n",
    "gl.xlabels_top = False\n",
    "gl.ylabels_right = False\n",
    "\n",
    "lon_formatter = LongitudeFormatter(zero_direction_label=True)\n",
    "lat_formatter = LatitudeFormatter()\n",
    "ax.xaxis.set_major_formatter(lon_formatter)\n",
    "ax.yaxis.set_major_formatter(lat_formatter)\n",
    "ax.xaxis.label.set_size(20)\n",
    "ax.yaxis.label.set_size(20)"
   ]
  }
 ],
 "metadata": {
  "kernelspec": {
   "display_name": "Python 3 (ipykernel)",
   "language": "python",
   "name": "python3"
  },
  "language_info": {
   "codemirror_mode": {
    "name": "ipython",
    "version": 3
   },
   "file_extension": ".py",
   "mimetype": "text/x-python",
   "name": "python",
   "nbconvert_exporter": "python",
   "pygments_lexer": "ipython3",
   "version": "3.8.2"
  }
 },
 "nbformat": 4,
 "nbformat_minor": 2
}
