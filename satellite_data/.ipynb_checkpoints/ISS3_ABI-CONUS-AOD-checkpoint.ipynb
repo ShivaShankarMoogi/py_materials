{
 "cells": [
  {
   "cell_type": "code",
   "execution_count": null,
   "metadata": {},
   "outputs": [],
   "source": [
    "#Block 0: Documentation\n",
    "\n",
    "print('ABI AOD Python Tools Activity, ISS3 Workshop on New Generation Satellite Products for Operational Fire and Smoke Applications,\\nApril 20,2020\\n')\n",
    "print('Version 1.0\\n')\n",
    "print('Written by Dr. Amy Huff (IMSG at NOAA/NESDIS/STAR) and Ryan Theurer (GVT LLC at NOAA/NESDIS/STAR) on March 30, 2020\\n')\n",
    "print('For questions contact Dr. Huff: amy.huff@noaa.gov\\n')\n",
    "print('This program shows users how to open and explore a netCDF-4 file containing GOES-16 CONUS view ABI aerosol optical depth (AOD)\\nsatellite data; how to process AOD data and data quality flags (DQFs) for a smoke event on May 30, 2019; how to plot AOD data\\non maps to create professional-looking figures; and finally how to create an animation of multiple AOD figures.')"
   ]
  },
  {
   "cell_type": "code",
   "execution_count": null,
   "metadata": {
    "scrolled": false
   },
   "outputs": [],
   "source": [
    "#Block 1: Import libraries and settings\n",
    "\n",
    "#Library to perform array operations\n",
    "import numpy as np \n",
    "\n",
    "#Libraries for making plots\n",
    "import matplotlib as mpl\n",
    "from matplotlib import pyplot as plt\n",
    "import matplotlib.ticker as ticker\n",
    "\n",
    "#Libaries for drawing maps\n",
    "import cartopy\n",
    "from cartopy import crs as ccrs\n",
    "import cartopy.feature as cfeature\n",
    "from cartopy.feature import NaturalEarthFeature\n",
    "from cartopy.mpl.ticker import LongitudeFormatter, LatitudeFormatter\n",
    "\n",
    "#Library for creating animations\n",
    "from PIL import Image\n",
    "\n",
    "#Library for accessing files in the directory\n",
    "import os\n",
    "\n",
    "#Library to read in netCDF files\n",
    "from netCDF4 import Dataset\n",
    "\n",
    "#Library for using math functions\n",
    "import math\n",
    "\n",
    "#Library for collecting lists of files from folders\n",
    "import glob\n",
    "\n",
    "import warnings\n",
    "warnings.filterwarnings('ignore')\n",
    "\n",
    "#Sets font size to 12\n",
    "plt.rcParams.update({'font.size': 12})\n",
    "\n",
    "#Option to keep numpy from printing in scientific notation by default\n",
    "np.set_printoptions(suppress = True)"
   ]
  },
  {
   "cell_type": "code",
   "execution_count": null,
   "metadata": {
    "scrolled": false
   },
   "outputs": [],
   "source": [
    "#Block 2: Explore an ABI AOD data file\n",
    "\n",
    "#Enter file name\n",
    "fname = os.getcwd() + '/OR_ABI-L2-AODC-M6_G16_s20191501801401_e20191501804174_c20191501806221.nc'\n",
    "\n",
    "#Set the file name to read\n",
    "file_id = Dataset(fname)\n",
    "\n",
    "#Explore the contents of the file by UNCOMMENTING the 'print' statements one by one to see various aspects of the file\n",
    "\n",
    "#Check the contents of the entire file\n",
    "print(file_id)\n",
    "\n",
    "#Check the AOD variable metadata\n",
    "##print(file_id.variables['AOD'])\n",
    "\n",
    "#Check the AOD array values\n",
    "##print(file_id.variables['AOD'][:,:])\n",
    "\n",
    "#Check the DQF variable metadata\n",
    "##print(file_id.variables['DQF'])\n",
    "\n",
    "#Check the DQF array values\n",
    "##print(file_id.variables['DQF'][:,:])"
   ]
  },
  {
   "cell_type": "code",
   "execution_count": null,
   "metadata": {},
   "outputs": [],
   "source": [
    "#Block 3: Check the spatial resolution of the data\n",
    "\n",
    "print((file_id.__getattr__('title')),'spatial resolution is', (file_id.__getattr__('spatial_resolution')))"
   ]
  },
  {
   "cell_type": "code",
   "execution_count": null,
   "metadata": {
    "scrolled": false
   },
   "outputs": [],
   "source": [
    "#Block 4: Check the units for the variables of interest (note: \"1\" means unitless)\n",
    "\n",
    "print('AOD unit is', (file_id.variables['AOD'].__getattr__('units')))\n",
    "print('DQF unit is', (file_id.variables['DQF'].__getattr__('units')))\n",
    "print('Latitude unit is', (file_id.variables['x'].__getattr__('units')))\n",
    "print('Longitude unit is', (file_id.variables['y'].__getattr__('units')))"
   ]
  },
  {
   "cell_type": "code",
   "execution_count": null,
   "metadata": {
    "scrolled": false
   },
   "outputs": [],
   "source": [
    "#Block 5: Check the data types for the variables of interest\n",
    "\n",
    "print('AOD data type is', (file_id.variables['AOD'][:,:].dtype))\n",
    "print('DQF data type is', (file_id.variables['DQF'][:,:].dtype))\n",
    "print('Latitude data type is', (file_id.variables['x'][:].dtype))\n",
    "print('Longitude data type is', (file_id.variables['y'][:].dtype))"
   ]
  },
  {
   "cell_type": "code",
   "execution_count": null,
   "metadata": {
    "scrolled": false
   },
   "outputs": [],
   "source": [
    "#Block 6: Algorithm to convert latitude and longitude radian values to degrees (as a callable function)\n",
    "\n",
    "def Degrees(file_id):\n",
    "    proj_info = file_id.variables['goes_imager_projection']\n",
    "    lon_origin = proj_info.longitude_of_projection_origin\n",
    "    H = proj_info.perspective_point_height+proj_info.semi_major_axis\n",
    "    r_eq = proj_info.semi_major_axis\n",
    "    r_pol = proj_info.semi_minor_axis\n",
    "    \n",
    "    #Data info\n",
    "    lat_rad_1d = file_id.variables['x'][:]\n",
    "    lon_rad_1d = file_id.variables['y'][:]\n",
    "    \n",
    "    #Create meshgrid filled with radian angles\n",
    "    lat_rad,lon_rad = np.meshgrid(lat_rad_1d,lon_rad_1d)\n",
    "    \n",
    "    #lat/lon calculus routine from satellite radian angle vectors\n",
    "    lambda_0 = (lon_origin*np.pi)/180.0\n",
    "    \n",
    "    a_var = np.power(np.sin(lat_rad),2.0) + (np.power(np.cos(lat_rad),2.0)*(np.power(np.cos(lon_rad),2.0)+(((r_eq*r_eq)/(r_pol*r_pol))*np.power(np.sin(lon_rad),2.0))))\n",
    "    b_var = -2.0*H*np.cos(lat_rad)*np.cos(lon_rad)\n",
    "    c_var = (H**2.0)-(r_eq**2.0)\n",
    "    \n",
    "    r_s = (-1.0*b_var - np.sqrt((b_var**2)-(4.0*a_var*c_var)))/(2.0*a_var)\n",
    "    \n",
    "    s_x = r_s*np.cos(lat_rad)*np.cos(lon_rad)\n",
    "    s_y = - r_s*np.sin(lat_rad)\n",
    "    s_z = r_s*np.cos(lat_rad)*np.sin(lon_rad)\n",
    "    \n",
    "    Lat = (180.0/np.pi)*(np.arctan(((r_eq*r_eq)/(r_pol*r_pol))*((s_z/np.sqrt(((H-s_x)*(H-s_x))+(s_y*s_y))))))\n",
    "    Lon = (lambda_0 - np.arctan(s_y/(H-s_x)))*(180.0/np.pi)\n",
    "    return Lat, Lon"
   ]
  },
  {
   "cell_type": "code",
   "execution_count": null,
   "metadata": {
    "scrolled": false
   },
   "outputs": [],
   "source": [
    "#Block 7: Select and process AOD data from a single file (as a callable function)\n",
    "\n",
    "def AOD_Data(file_id):\n",
    "    #Read in AOD data\n",
    "    AOD_data = file_id.variables['AOD'][:,:]\n",
    "\n",
    "    #Select quality of AOD data pixels using the \"DQF\" variable\n",
    "    #High quality: DQF = 0, Medium quality: DQF = 1, Low quality: DQF = 2, not retrieved (NR): DQF = 3\n",
    "    #Science team recommends using High and Medium qualities for operational applications (e.g.,mask low quality and NR pixels)\n",
    "    DQF = file_id.variables['DQF'][:,:]\n",
    "    Quality_Mask = (DQF > 1)\n",
    "    AOD = np.ma.masked_where(Quality_Mask, AOD_data)\n",
    "    return AOD"
   ]
  },
  {
   "cell_type": "code",
   "execution_count": null,
   "metadata": {
    "scrolled": false
   },
   "outputs": [],
   "source": [
    "#Block 8: Review processed data (sanity check)\n",
    "\n",
    "AOD = AOD_Data(file_id)\n",
    "Lat, Lon = Degrees(file_id)\n",
    "\n",
    "print('AOD: minimum value is ' + str(np.min(AOD)) + ';' + ' maximum value is ' + str(np.max(AOD)))\n",
    "print('Latitude: minimum value is ' + str(np.min(Lat)) + ' degrees;' + ' maximum value is ' + str(np.max(Lat)) + ' degrees')\n",
    "print('Longitude: minimum value is ' + str(np.min(Lon)) + ' degrees;' + ' maximum value is ' + str(np.max(Lon)) + ' degrees')"
   ]
  },
  {
   "cell_type": "code",
   "execution_count": null,
   "metadata": {},
   "outputs": [],
   "source": [
    "#Block 9: Plotting settings for AOD data (as a callable function)\n",
    "\n",
    "def AOD_Data_Settings():\n",
    "    #Create custom continuous colormap for AOD data\n",
    "    #.set_over sets color for plotting data > max\n",
    "    color_map = mpl.colors.LinearSegmentedColormap.from_list('custom_AOD', [(0, 'indigo'),(0.1, 'mediumblue'), (0.2, 'blue'), (0.3, 'royalblue'), (0.4, 'skyblue'), (0.5, 'cyan'), (0.6, 'yellow'), (0.7, 'orange'), (0.8, 'darkorange'), (0.9, 'red'), (1, 'firebrick')], N = 150)\n",
    "    color_map.set_over('darkred')\n",
    "    \n",
    "    #Set range for plotting AOD data (data min, data max, contour interval) (MODIFY contour interval)\n",
    "    #interval: 0.1 = runs faster/coarser resolution, 0.01 = runs slower/higher resolution\n",
    "    data_range = np.arange(0, 1.1, 0.05)\n",
    "    \n",
    "    return color_map, data_range"
   ]
  },
  {
   "cell_type": "code",
   "execution_count": null,
   "metadata": {},
   "outputs": [],
   "source": [
    "#Block 10: Create AOD colorbar, independent of plotted data (as a callable function)\n",
    "##cbar_ax are dummy variables\n",
    "#Location/dimensions of colorbar set by .set_position (x0, y0, width, height) to scale automatically with plot\n",
    "\n",
    "def AOD_Colorbar():\n",
    "    last_axes = plt.gca()\n",
    "    cbar_ax = fig.add_axes([0, 0, 0, 0])\n",
    "    plt.draw()\n",
    "    posn = ax.get_position()\n",
    "    cbar_ax.set_position([0.35, posn.y0 - 0.07, 0.3, 0.02])\n",
    "    color_map = mpl.colors.LinearSegmentedColormap.from_list('custom_AOD', [(0, 'indigo'),(0.1, 'mediumblue'), (0.2, 'blue'), (0.3, 'royalblue'), (0.4, 'skyblue'), (0.5, 'cyan'), (0.6, 'yellow'), (0.7, 'orange'), (0.8, 'darkorange'), (0.9, 'red'), (1, 'firebrick')], N = 150)\n",
    "    color_map.set_over('darkred')\n",
    "    norm = mpl.colors.Normalize(vmin = 0, vmax = 1)\n",
    "    cb = mpl.colorbar.ColorbarBase(cbar_ax, cmap = color_map, norm = norm, orientation = 'horizontal', ticks = [0, 0.25, 0.5, 0.75, 1], extend = 'max')\n",
    "    cb.set_label(label = 'AOD', size = 'medium', weight = 'bold')\n",
    "    cb.ax.set_xticklabels(['0', '0.25', '0.50', '0.75', '1.0'])\n",
    "    cb.ax.tick_params(labelsize = 'medium')\n",
    "    plt.sca(last_axes)"
   ]
  },
  {
   "cell_type": "code",
   "execution_count": null,
   "metadata": {},
   "outputs": [],
   "source": [
    "#Block 11: Format map with Plate Carree projection (as a callable function)\n",
    "\n",
    "def ABI_Map_Settings_PC(ax):\n",
    "    #Set up and label the lat/lon grid\n",
    "    lon_formatter = LongitudeFormatter()\n",
    "    lat_formatter = LatitudeFormatter()\n",
    "    ax.xaxis.set_major_formatter(lon_formatter)\n",
    "    ax.yaxis.set_major_formatter(lat_formatter)\n",
    "    ax.set_xticks([-160, -140, -120, -100, -80, -60, -40, -20], crs = ccrs.PlateCarree())\n",
    "    ax.set_yticks([-80,-70,-60,-50,-40,-30,-20,-10,0,10,20,30,40,50,60,70,80], crs = ccrs.PlateCarree())\n",
    "    \n",
    "    #Set lat/lon ticks and gridlines\n",
    "    ax.tick_params(length = 0)\n",
    "    ax.grid(linewidth = 0.5, zorder = 3)\n",
    "    \n",
    "    #Draw coastlines/borders using Cartopy; zorder sets drawing order for layers\n",
    "    ax.coastlines(resolution = '50m', zorder = 3)\n",
    "    ax.add_feature(cfeature.BORDERS, zorder = 3)\n",
    "    ax.add_feature(cfeature.NaturalEarthFeature(category = 'cultural', name = 'admin_1_states_provinces', scale = '50m'), facecolor = 'none', lw = 0.5, edgecolor = 'black', zorder = 2)\n",
    "    ax.add_feature(cfeature.NaturalEarthFeature(category = 'physical', name = 'ocean', scale = '50m'), facecolor = 'lightgrey')\n",
    "    ax.add_feature(cfeature.NaturalEarthFeature(category = 'physical', name = 'land', scale = '50m'), facecolor = 'grey')\n",
    "    ax.add_feature(cfeature.NaturalEarthFeature(category = 'physical', name = 'lakes', scale = '50m'), facecolor = 'lightgrey', edgecolor = 'black', zorder = 2)\n",
    "    \n",
    "    #Set domain for map [x0, x1, y0, y1] \n",
    "    #Default longitude extent (x0, x1) values: G16 = (-135, -65); G17 = (-170, -100)\n",
    "    #Use 180 degrees for longitude coordinates (i.e, -100 = 100 degrees W)\n",
    "    #NOTE: Comment out (add leading ##) the line below to automatically set domain to extend to limits of data\n",
    "    ax.set_extent([-135, -65, 15, 55], crs = ccrs.PlateCarree())"
   ]
  },
  {
   "cell_type": "code",
   "execution_count": null,
   "metadata": {
    "scrolled": false
   },
   "outputs": [],
   "source": [
    "#Block 12: Plot AOD data from a single file - CONUS View\n",
    "\n",
    "#Select and process AOD data\n",
    "AOD = AOD_Data(file_id)\n",
    "\n",
    "#Read in latitutude and longitude values in degrees\n",
    "Lat, Lon = Degrees(file_id)\n",
    "\n",
    "#Set up figure and map projection: PlateCarree(central_longitude)\n",
    "#Plate Carree: equidistant cylindrical projection w/equator as the standard parallel; default central_longitude = 0\n",
    "fig = plt.figure(figsize=(8, 10))\n",
    "ax = fig.add_subplot(1,1,1, projection = ccrs.PlateCarree())\n",
    "\n",
    "#Format map with Plate Carree projection\n",
    "ABI_Map_Settings_PC(ax)\n",
    "\n",
    "#Add and format title\n",
    "#Reverse indexing (from right to left) of file name automatically adds satellite, time, and year to title\n",
    "plt.title('GOES-' + fname[-53:-51] + '/ABI\\nHigh + Medium Quality AOD\\n' + fname[-42:-40] + ':' + fname[-40:-38] + ' UTC, 30 May ' + fname[-49:-45], y = 1.025, ma = 'center', size = 15, weight = 'bold')\n",
    "\n",
    "#Add AOD colorbar\n",
    "AOD_Colorbar()\n",
    "\n",
    "#Plotting settings for AOD data\n",
    "color_map, data_range = AOD_Data_Settings()\n",
    "\n",
    "if AOD.count() > 0:\n",
    "    #Create filled contour plot of AOD data\n",
    "    Plot = ax.contourf(Lon, Lat, AOD, data_range, cmap = color_map, extend = 'both', zorder = 3, transform = ccrs.PlateCarree())\n",
    "else:\n",
    "    pass\n",
    "\n",
    "#Show figure\n",
    "plt.show()\n",
    "\n",
    "#Don't save this figure now - we will save it in the next step!  But the code showing how to save is here for reference:\n",
    "#Save figure as a .png file\n",
    "#dpi sets the resolution of the digital image in dots per inch\n",
    "filename = 'G16_CONUS_ABI_AOD_20190530_' + fname[-42:-38]\n",
    "##fig.savefig(filename, bbox_inches = 'tight', dpi = 150)"
   ]
  },
  {
   "cell_type": "code",
   "execution_count": null,
   "metadata": {
    "scrolled": false
   },
   "outputs": [],
   "source": [
    "#Block 13: Make multiple individual figures of AOD data (one plot from each data file) - CONUS View\n",
    "\n",
    "#Collect all of the AOD CONUS view .nc files in given subdirectory\n",
    "file_list = sorted(glob.glob(os.getcwd() + '/*AODC*.nc'))\n",
    "\n",
    "#Plotting settings for AOD data\n",
    "color_map, data_range = AOD_Data_Settings()\n",
    "\n",
    "#Loop through data files, making/saving a figure for each data file\n",
    "for x in file_list:\n",
    "    file_id = Dataset(x)  \n",
    "    \n",
    "    #Select and process AOD data\n",
    "    AOD = AOD_Data(file_id)\n",
    "    \n",
    "    #Read in latitutude and longitude values in degrees\n",
    "    Lat, Lon = Degrees(file_id)\n",
    "    \n",
    "    #Set up figure and map projection: PlateCarree(central_longitude)\n",
    "    #Plate Carree: equidistant cylindrical projection w/equator as the standard parallel; default central_longitude = 0\n",
    "    fig = plt.figure(figsize=(8, 10))\n",
    "    ax = fig.add_subplot(1,1,1, projection = ccrs.PlateCarree())\n",
    "    \n",
    "    #Format map with Plate Carree projection\n",
    "    ABI_Map_Settings_PC(ax)\n",
    "    \n",
    "    #Add and format title\n",
    "    #Reverse indexing (from right to left) of file name automatically adds satellite, time, and year to title\n",
    "    plt.title('GOES-' + x[-53:-51] + '/ABI\\nHigh + Medium Quality AOD\\n' + x[-42:-40] + ':' + x[-40:-38] + ' UTC, 30 May ' + x[-49:-45], y = 1.025, ma = 'center', size = 15, weight = 'bold')\n",
    "        \n",
    "    #Add AOD colorbar\n",
    "    AOD_Colorbar()\n",
    "    \n",
    "    if AOD.count() > 0:\n",
    "        #Create filled contour plot of AOD data\n",
    "        Plot = ax.contourf(Lon, Lat, AOD, data_range, cmap = color_map, extend = 'both', zorder = 3, transform = ccrs.PlateCarree())\n",
    "    else:\n",
    "        pass\n",
    "    \n",
    "    #Show figure\n",
    "    plt.show()\n",
    "    \n",
    "    #Save figure as a .png file\n",
    "    #dpi sets the resolution of the digital image in dots per inch\n",
    "    #Find the saved figures in your \"current working directory\" (folder containing Python Notebook file, netCDF-4 data files)\n",
    "    filename = 'G16_CONUS_ABI_AOD_20190530_' + x[-42:-38]\n",
    "    fig.savefig(filename, bbox_inches = 'tight', dpi = 150)\n",
    "    \n",
    "    #Erase plot so we can build the next one\n",
    "    plt.close()"
   ]
  },
  {
   "cell_type": "code",
   "execution_count": null,
   "metadata": {
    "scrolled": false
   },
   "outputs": [],
   "source": [
    "#Block 14: Make an animation of AOD figures using python image library (Pillow)\n",
    "#Pillow is preferred for AOD animations because it retains the features of continuous colorbars relatively well\n",
    "\n",
    "#Collect all of the ABI AOD 20190530 18 UTC graphics files (figures) in given subdirectory\n",
    "file_list = sorted(glob.glob(os.getcwd() + '/*ABI_AOD_20190530_18*.png'))\n",
    "\n",
    "#Create an empty list to store figures\n",
    "frames = []\n",
    "\n",
    "#Loop through graphics files and append\n",
    "for x in file_list:\n",
    "    new_frame = Image.open(x)\n",
    "    frames.append(new_frame)\n",
    "\n",
    "#Save animation\n",
    "#Find the saved animation in your \"current working directory\" (folder containing Python Notebook file, netCDF-4 data files)\n",
    "#Duration is speed of frame animation in ms (e.g., 1000 ms = 1 second between frames)\n",
    "#Loop sets time before animation restarts (e.g., loop = 0 means animation loops continuously with no delay)\n",
    "frames[0].save('G16_CONUS_ABI_AOD-Animation_20190530_18-19.gif', format = 'GIF', append_images = frames[1:], save_all = True, duration = 1000, loop = 0)\n",
    "\n",
    "#Close the graphics files we opened\n",
    "for x in file_list:\n",
    "    new_frame.close()\n",
    "\n",
    "print('Animation done!')"
   ]
  },
  {
   "cell_type": "code",
   "execution_count": null,
   "metadata": {
    "scrolled": false
   },
   "outputs": [],
   "source": []
  }
 ],
 "metadata": {
  "kernelspec": {
   "display_name": "Python 3 (ipykernel)",
   "language": "python",
   "name": "python3"
  },
  "language_info": {
   "codemirror_mode": {
    "name": "ipython",
    "version": 3
   },
   "file_extension": ".py",
   "mimetype": "text/x-python",
   "name": "python",
   "nbconvert_exporter": "python",
   "pygments_lexer": "ipython3",
   "version": "3.8.2"
  },
  "varInspector": {
   "cols": {
    "lenName": 16,
    "lenType": 16,
    "lenVar": 40
   },
   "kernels_config": {
    "python": {
     "delete_cmd_postfix": "",
     "delete_cmd_prefix": "del ",
     "library": "var_list.py",
     "varRefreshCmd": "print(var_dic_list())"
    },
    "r": {
     "delete_cmd_postfix": ") ",
     "delete_cmd_prefix": "rm(",
     "library": "var_list.r",
     "varRefreshCmd": "cat(var_dic_list()) "
    }
   },
   "types_to_exclude": [
    "module",
    "function",
    "builtin_function_or_method",
    "instance",
    "_Feature"
   ],
   "window_display": false
  }
 },
 "nbformat": 4,
 "nbformat_minor": 2
}
