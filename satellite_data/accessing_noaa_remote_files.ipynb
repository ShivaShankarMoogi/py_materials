{
 "cells": [
  {
   "cell_type": "markdown",
   "id": "695935b7",
   "metadata": {},
   "source": [
    "# Accessing NOAA Remote Data Files"
   ]
  },
  {
   "cell_type": "markdown",
   "id": "42b450ba",
   "metadata": {},
   "source": [
    "#### The description of the available data is at:\n",
    "\n",
    "- [NOAA Geostationary Operational Environmental Satellites (GOES) 16, 17 & 18](https://registry.opendata.aws/noaa-goes/)\n",
    "- [NOAA GOES on AWS](https://github.com/awslabs/open-data-docs/tree/main/docs/noaa/noaa-goes16)\n",
    "\n",
    "#### To explore the data:\n",
    "\n",
    "- [AWS S3 Explorer](https://noaa-goes18.s3.amazonaws.com/index.html)"
   ]
  },
  {
   "cell_type": "code",
   "execution_count": null,
   "id": "33f40463",
   "metadata": {},
   "outputs": [],
   "source": [
    "import warnings\n",
    "warnings.filterwarnings('ignore')"
   ]
  },
  {
   "cell_type": "code",
   "execution_count": null,
   "id": "cbb05fe2",
   "metadata": {},
   "outputs": [],
   "source": [
    "import requests\n",
    "import os"
   ]
  },
  {
   "cell_type": "code",
   "execution_count": null,
   "id": "43370fa1",
   "metadata": {},
   "outputs": [],
   "source": [
    "from datetime import datetime, timedelta"
   ]
  },
  {
   "cell_type": "code",
   "execution_count": null,
   "id": "27ca83c3",
   "metadata": {},
   "outputs": [],
   "source": [
    "%matplotlib inline\n",
    "import matplotlib.pyplot as plt\n",
    "import cartopy\n",
    "from cartopy import crs as ccrs\n",
    "import cartopy.feature as cfeature\n",
    "import cartopy.io.shapereader as shapereader\n",
    "from cartopy.mpl.ticker import LongitudeFormatter, LatitudeFormatter"
   ]
  },
  {
   "cell_type": "code",
   "execution_count": null,
   "id": "087db48a",
   "metadata": {},
   "outputs": [],
   "source": [
    "import numpy as np\n",
    "import netCDF4 as nc4\n",
    "import xarray as xr"
   ]
  },
  {
   "cell_type": "markdown",
   "id": "5f06c8a2",
   "metadata": {},
   "source": [
    "## <font color=\"blue\">Take a Sample File</font>\n",
    "\n",
    "### Get the File url"
   ]
  },
  {
   "cell_type": "code",
   "execution_count": null,
   "id": "10afc6a7",
   "metadata": {},
   "outputs": [],
   "source": [
    "file_name_url = \"https://noaa-goes17.s3.amazonaws.com/ABI-L2-TPWF/2023/001/14/OR_ABI-L2-TPWF-M6_G17_s20230011400321_e20230011409388_c20230011411032.nc\""
   ]
  },
  {
   "cell_type": "markdown",
   "id": "cc327fca",
   "metadata": {},
   "source": [
    "You may want to consult: [NOAA GOES on AWS](https://github.com/awslabs/open-data-docs/tree/main/docs/noaa/noaa-goes16)\n",
    "\n",
    "\n",
    "The url of the file:\n",
    "\n",
    "```\n",
    "https://noaa-goes17.s3.amazonaws.com/ABI-L2-TPWF/2023/001/14/OR_ABI-L2-TPWF-M6_G17_s20230011400321_e20230011409388_c20230011411032.nc\n",
    "```\n",
    "Can be broken into:\n",
    "\n",
    "\n",
    "```\n",
    "<base_url>/<Product>/<Year>/<Day_of_Year>/<Hour>/<Filename>\n",
    "\n",
    "```\n",
    "where:\n",
    "\n",
    "\n",
    "- `base_url`: https://noaa-goes18.s3.amazonaws.com\n",
    "- `Product`: ABI-L2-TPWF (Advanced Baseline Imager Level 2 Total Precipitable Water Full Disk)\n",
    "- `Year`: year in the format YYYY\n",
    "- `Day_of_Year`: Day of the year in the format ddd (1-365)\n",
    "- `Hour`: the hour the data observation was made\n",
    "- `Filename`: name of the netCDF-4file containing the data.\n",
    "\n",
    "The `<filename>` s delineated by underscores '_' and is:\n",
    "```\n",
    "OR_ABI-L2-TPWF-M6_G17_s20230011400321_e20230011409388_c20230011411032.nc\n",
    "```\n",
    "where:\n",
    "\n",
    "- `OR`: Operational system real-time data\n",
    "- `ABI-L2-ACHTF-M6`: is delineated by hyphen '-':\n",
    "   - `ABI`: is ABI Sensor\n",
    "   - `L2`: is processing level, L2 data or L1b\n",
    "   - `TPW`: Total Precipitable Water.\n",
    "   - `F`: is full disk (normally every 15 minutes), C is continental U.S. (normally every 5 minutes), M1 and M2 is Mesoscale region 1 and region 2 (usually every minute each)\n",
    "   - `M6`: is mode 6 (scan operation), M4 is mode 4 (only full disk scans every five minutes – no mesoscale or CONUS)\n",
    "- `G17`: is satellite id for GOES-17\n",
    "- `s20230011400321`: is start of scan time\n",
    "   - 4 digit year\n",
    "   - 3 digit day of year\n",
    "   - 2 digit hour\n",
    "   - 2 digit minute\n",
    "   - 2 digit second\n",
    "   - 1 digit tenth of second\n",
    "- `e20230011409388`: is end of scan time\n",
    "- `c20230011411032`: is netCDF4 file creation time\n",
    "- `.nc`: is netCDF file extension\n"
   ]
  },
  {
   "cell_type": "markdown",
   "id": "fb9b8be7",
   "metadata": {},
   "source": [
    "### Read the Remote File\n",
    "\n",
    "1. Use the `requests` module to grab the file\n",
    "2. Use the `netCDF4` module to read the content of Step 1.\n",
    "3. Use `Xarray` to store Step 2 output.\n",
    "4. Use `Xarray` to read Step 3 output as a `Xarray` DataSet.\n",
    "\n",
    "Let us write a function that does the above steps."
   ]
  },
  {
   "cell_type": "code",
   "execution_count": null,
   "id": "1345e6b8",
   "metadata": {},
   "outputs": [],
   "source": [
    "def read_remote_noaa_file(file_name_url):\n",
    "    \"\"\"\n",
    "    Read a remote NOAA file (in a public S3 Bucket)\n",
    "    using the above steps.\n",
    "    \n",
    "    Parameters\n",
    "    ----------\n",
    "    file_name_url : str\n",
    "         Name of the remote file (as a http url) to read\n",
    "         \n",
    "    Returns\n",
    "    -------\n",
    "    xr_ds : Xarray DataSet\n",
    "    \n",
    "    \"\"\"\n",
    "    file_name = os.path.basename(file_name_url)\n",
    "    \n",
    "    # Step 1:\n",
    "    resp = requests.get(file_name_url)\n",
    "    \n",
    "    # Step 2:\n",
    "    nc4_ds = nc4.Dataset(file_name, memory = resp.content)\n",
    "    \n",
    "    # Step 3:\n",
    "    store = xr.backends.NetCDF4DataStore(nc4_ds)\n",
    "    \n",
    "    # Step 4:\n",
    "    xr_ds = xr.open_dataset(store)\n",
    "    \n",
    "    return xr_ds"
   ]
  },
  {
   "cell_type": "code",
   "execution_count": null,
   "id": "4f70594f",
   "metadata": {},
   "outputs": [],
   "source": [
    "xr_ds = read_remote_noaa_file(file_name_url)"
   ]
  },
  {
   "cell_type": "code",
   "execution_count": null,
   "id": "c0f2e583",
   "metadata": {},
   "outputs": [],
   "source": [
    "xr_ds"
   ]
  },
  {
   "cell_type": "markdown",
   "id": "65d07eae",
   "metadata": {},
   "source": [
    "Size of the Xarray DataSet:"
   ]
  },
  {
   "cell_type": "code",
   "execution_count": null,
   "id": "7efa3af7",
   "metadata": {},
   "outputs": [],
   "source": [
    "print(f\"{xr_ds.nbytes / (1024*1024*1024)} Gb\")"
   ]
  },
  {
   "cell_type": "markdown",
   "id": "884466d2",
   "metadata": {},
   "source": [
    "### Date and Time Information\n",
    "\n",
    "- Each file represents the data collected during one scan sequence for the domain. \n",
    "- There are several different time stamps in this file, which are also found in the file's name."
   ]
  },
  {
   "cell_type": "markdown",
   "id": "79e311ea",
   "metadata": {},
   "source": [
    "Scan's start time, converted to datetime object:"
   ]
  },
  {
   "cell_type": "code",
   "execution_count": null,
   "id": "b57aaab9",
   "metadata": {},
   "outputs": [],
   "source": [
    "scan_start = datetime.strptime(xr_ds.time_coverage_start, \n",
    "                               \"%Y-%m-%dT%H:%M:%S.%fZ\")"
   ]
  },
  {
   "cell_type": "markdown",
   "id": "24870640",
   "metadata": {},
   "source": [
    "Scan's end time, converted to datetime object:"
   ]
  },
  {
   "cell_type": "code",
   "execution_count": null,
   "id": "1795ebc4",
   "metadata": {},
   "outputs": [],
   "source": [
    "scan_end = datetime.strptime(xr_ds.time_coverage_end, \n",
    "                             \"%Y-%m-%dT%H:%M:%S.%fZ\")"
   ]
  },
  {
   "cell_type": "markdown",
   "id": "fbebcc7f",
   "metadata": {},
   "source": [
    "File creation time, convert to datetime object:"
   ]
  },
  {
   "cell_type": "code",
   "execution_count": null,
   "id": "c7c1f5bf",
   "metadata": {},
   "outputs": [],
   "source": [
    "file_created = datetime.strptime(xr_ds.date_created, \n",
    "                                 \"%Y-%m-%dT%H:%M:%S.%fZ\")"
   ]
  },
  {
   "cell_type": "markdown",
   "id": "72fe029d",
   "metadata": {},
   "source": [
    "The 't' variable is the scan's midpoint time:"
   ]
  },
  {
   "cell_type": "code",
   "execution_count": null,
   "id": "7450987e",
   "metadata": {},
   "outputs": [],
   "source": [
    "midpoint = str(xr_ds[\"t\"].data)[:-8]\n",
    "scan_mid = datetime.strptime(midpoint, \"%Y-%m-%dT%H:%M:%S.%f\")"
   ]
  },
  {
   "cell_type": "code",
   "execution_count": null,
   "id": "9fb43716",
   "metadata": {},
   "outputs": [],
   "source": [
    "print(f\"Scan Start:    {scan_start}\")\n",
    "print(f\"Scan midpoint: {scan_mid}\")\n",
    "print(f\"Scan End:      {scan_end}\")\n",
    "print(f\"File Created:  {file_created}\")\n",
    "print(f\"Scan Duration: {(scan_end - scan_start).seconds / 60:.2f} minutes\")"
   ]
  },
  {
   "cell_type": "markdown",
   "id": "06a7d2c7",
   "metadata": {},
   "source": [
    "### Do Basic Plots"
   ]
  },
  {
   "cell_type": "code",
   "execution_count": null,
   "id": "06e150c6",
   "metadata": {},
   "outputs": [],
   "source": [
    "xr_ds.TPW.plot();"
   ]
  },
  {
   "cell_type": "markdown",
   "id": "b30f8836",
   "metadata": {},
   "source": [
    "## <font color=\"blue\">Compute the Latitude/Longitude Grid Points</font>\n",
    "\n",
    "The following document:\n",
    "\n",
    "[GOES-R Satellite Latitude and Longitude Grid Projection Algorithm](https://makersportal.com/blog/2018/11/25/goes-r-satellite-latitude-and-longitude-grid-projection-algorithm)\n",
    "\n",
    "explains how to compute the latitude/longitude grid points using the parameters stored in the variable `goes_imager_projection`. The function below uses those parameters, along with the Math formulas, to return a Xarray DataSet with `lat` and `lon` as Xarray coordinates."
   ]
  },
  {
   "cell_type": "code",
   "execution_count": null,
   "id": "832f2c22",
   "metadata": {},
   "outputs": [],
   "source": [
    "def compute_latlon_grid_points(ds):\n",
    "    \"\"\"\n",
    "    Calculate the latitude and longitude grid points\n",
    "    and add them as Xarray coordinates.\n",
    "    \n",
    "    Parameters\n",
    "    ----------\n",
    "    ds : Xarray DataSet\n",
    "    \n",
    "    Returns\n",
    "    -------\n",
    "    ds : Xarray DataSet\n",
    "         Contains lat and lon as coordinates.\n",
    "    \"\"\"\n",
    "    x = ds.x\n",
    "    y = ds.y\n",
    "    goes_imager_projection = ds.goes_imager_projection\n",
    "    \n",
    "    x,y = np.meshgrid(x,y)\n",
    "    \n",
    "    r_eq = goes_imager_projection.attrs[\"semi_major_axis\"]\n",
    "    r_pol = goes_imager_projection.attrs[\"semi_minor_axis\"]\n",
    "    l_0 = goes_imager_projection.attrs[\"longitude_of_projection_origin\"] * (np.pi/180)\n",
    "    h_sat = goes_imager_projection.attrs[\"perspective_point_height\"]\n",
    "    H = r_eq + h_sat\n",
    "    \n",
    "    a = np.sin(x)**2 + (np.cos(x)**2 * (np.cos(y)**2 + (r_eq**2 / r_pol**2) * np.sin(y)**2))\n",
    "    b = -2 * H * np.cos(x) * np.cos(y)\n",
    "    c = H**2 - r_eq**2\n",
    "    \n",
    "    r_s = (-b - np.sqrt(b**2 - 4*a*c))/(2*a)\n",
    "    \n",
    "    s_x = r_s * np.cos(x) * np.cos(y)\n",
    "    s_y = -r_s * np.sin(x)\n",
    "    s_z = r_s * np.cos(x) * np.sin(y)\n",
    "    \n",
    "    lat = np.arctan((r_eq**2 / r_pol**2) * (s_z / np.sqrt((H-s_x)**2 +s_y**2))) * (180/np.pi)\n",
    "    lon = (l_0 - np.arctan(s_y / (H-s_x))) * (180/np.pi)\n",
    "    \n",
    "    ds = ds.assign_coords({\n",
    "        \"lat\":([\"y\",\"x\"],lat),\n",
    "        \"lon\":([\"y\",\"x\"],lon)\n",
    "    })\n",
    "    ds.lat.attrs[\"units\"] = \"degrees_north\"\n",
    "    ds.lon.attrs[\"units\"] = \"degrees_east\"\n",
    "    \n",
    "    return ds"
   ]
  },
  {
   "cell_type": "code",
   "execution_count": null,
   "id": "3f91e998",
   "metadata": {},
   "outputs": [],
   "source": [
    "xr_ds = compute_latlon_grid_points(xr_ds)\n",
    "xr_ds"
   ]
  },
  {
   "cell_type": "code",
   "execution_count": null,
   "id": "cd02fa22",
   "metadata": {},
   "outputs": [],
   "source": [
    "def get_xy_from_latlon(ds, lats, lons):\n",
    "    lat1, lat2 = lats\n",
    "    lon1, lon2 = lons\n",
    "\n",
    "    lat = ds.lat.data\n",
    "    lon = ds.lon.data\n",
    "    \n",
    "    x = ds.x.data\n",
    "    y = ds.y.data\n",
    "    \n",
    "    x,y = np.meshgrid(x,y)\n",
    "    \n",
    "    x = x[(lat >= lat1) & (lat <= lat2) & (lon >= lon1) & (lon <= lon2)]\n",
    "    y = y[(lat >= lat1) & (lat <= lat2) & (lon >= lon1) & (lon <= lon2)] \n",
    "    \n",
    "    return ((min(x), max(x)), (min(y), max(y)))"
   ]
  },
  {
   "cell_type": "markdown",
   "id": "cdee878c",
   "metadata": {},
   "source": [
    "## <font color=\"blue\">Perform a Contour Plot</font>"
   ]
  },
  {
   "cell_type": "markdown",
   "id": "f311821d",
   "metadata": {},
   "source": [
    "#### Define the native geostationary map projection"
   ]
  },
  {
   "cell_type": "code",
   "execution_count": null,
   "id": "5ad57cab",
   "metadata": {},
   "outputs": [],
   "source": [
    "projection_variables = xr_ds['goes_imager_projection']\n",
    "satellite_height = projection_variables.perspective_point_height\n",
    "semi_major_axis = projection_variables.semi_major_axis\n",
    "semi_minor_axis = projection_variables.semi_minor_axis\n",
    "central_longitude = projection_variables.longitude_of_projection_origin"
   ]
  },
  {
   "cell_type": "code",
   "execution_count": null,
   "id": "e50ac6d2",
   "metadata": {},
   "outputs": [],
   "source": [
    "globe = ccrs.Globe(semimajor_axis=semi_major_axis, \n",
    "                   semiminor_axis=semi_minor_axis)\n",
    "geo_projection = ccrs.Geostationary(central_longitude=central_longitude, \n",
    "                                    satellite_height=satellite_height,\n",
    "                                    globe=globe, sweep_axis='x')"
   ]
  },
  {
   "cell_type": "markdown",
   "id": "b00284d7",
   "metadata": {},
   "source": [
    "#### Do the plot"
   ]
  },
  {
   "cell_type": "code",
   "execution_count": null,
   "id": "67698ae2",
   "metadata": {},
   "outputs": [],
   "source": [
    "map_projection = geo_projection\n",
    "data_transform = ccrs.PlateCarree()"
   ]
  },
  {
   "cell_type": "code",
   "execution_count": null,
   "id": "e684992d",
   "metadata": {},
   "outputs": [],
   "source": [
    "contour_interval = 5\n",
    "contours_array = np.arange(int(np.nanmin(xr_ds.TPW.values)),\n",
    "                             int(np.nanmax(xr_ds.TPW.values))+1.0, \n",
    "                             contour_interval)"
   ]
  },
  {
   "cell_type": "code",
   "execution_count": null,
   "id": "a63b31dd",
   "metadata": {},
   "outputs": [],
   "source": [
    "fig = plt.figure(figsize=(8, 10))\n",
    "ax = plt.axes(projection=map_projection)\n",
    "\n",
    "cmap = plt.get_cmap('viridis').with_extremes(over='darkred')\n",
    "\n",
    "map_extend_geos = ax.get_extent(crs=map_projection)\n",
    "\n",
    "im = ax.contourf(xr_ds.lon.values, xr_ds.lat.values,\n",
    "                 xr_ds.TPW.values, \n",
    "                 contours_array, \n",
    "                 extent=map_extend_geos,\n",
    "                 cmap=cmap,\n",
    "                 zorder=2,\n",
    "                 transform_first=True, \n",
    "                 transform=data_transform) \n",
    "                \n",
    "# Map features\n",
    "ax.add_feature(cfeature.COASTLINE, linewidth=0.95, zorder=3)\n",
    "ax.add_feature(cfeature.BORDERS, linewidth=0.5, zorder=3)\n",
    "ax.add_feature(cfeature.LAKES, facecolor='lightgrey')\n",
    "ax.add_feature(cfeature.STATES, linewidth=0.25, zorder=3)\n",
    "ax.add_feature(cfeature.LAND, facecolor='grey')\n",
    "ax.add_feature(cfeature.OCEAN, facecolor='lightgrey')\n",
    "\n",
    "# Colorbar\n",
    "units = xr_ds.TPW.attrs['units']\n",
    "long_name = xr_ds.TPW.attrs['long_name']\n",
    "cbar = fig.colorbar(im, ax=ax,  orientation=\"vertical\", shrink=0.65)\n",
    "cbar.ax.tick_params(labelsize=15)\n",
    "cbar.set_label(f\"{long_name} \\n {units}\", labelpad=+1)"
   ]
  },
  {
   "cell_type": "markdown",
   "id": "a5eb6460",
   "metadata": {},
   "source": [
    "## <font color=\"blue\"> Exercise</font>\n",
    "\n",
    "Go to the webpage:\n",
    "\n",
    "[https://noaa-goes18.s3.amazonaws.com/index.html](https://noaa-goes18.s3.amazonaws.com/index.html)\n",
    "\n",
    "- Select a file in any of the collection.\n",
    "- Open the file and read its content into an Xarray DataSet.\n",
    "- Select a field and do a contour plot using Cartopy."
   ]
  },
  {
   "cell_type": "code",
   "execution_count": null,
   "id": "21c67d61",
   "metadata": {},
   "outputs": [],
   "source": []
  }
 ],
 "metadata": {
  "kernelspec": {
   "display_name": "Python 3 (ipykernel)",
   "language": "python",
   "name": "python3"
  },
  "language_info": {
   "codemirror_mode": {
    "name": "ipython",
    "version": 3
   },
   "file_extension": ".py",
   "mimetype": "text/x-python",
   "name": "python",
   "nbconvert_exporter": "python",
   "pygments_lexer": "ipython3",
   "version": "3.8.2"
  },
  "varInspector": {
   "cols": {
    "lenName": 16,
    "lenType": 16,
    "lenVar": 40
   },
   "kernels_config": {
    "python": {
     "delete_cmd_postfix": "",
     "delete_cmd_prefix": "del ",
     "library": "var_list.py",
     "varRefreshCmd": "print(var_dic_list())"
    },
    "r": {
     "delete_cmd_postfix": ") ",
     "delete_cmd_prefix": "rm(",
     "library": "var_list.r",
     "varRefreshCmd": "cat(var_dic_list()) "
    }
   },
   "types_to_exclude": [
    "module",
    "function",
    "builtin_function_or_method",
    "instance",
    "_Feature"
   ],
   "window_display": false
  }
 },
 "nbformat": 4,
 "nbformat_minor": 5
}
