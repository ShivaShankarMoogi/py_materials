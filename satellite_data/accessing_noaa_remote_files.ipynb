{
 "cells": [
  {
   "cell_type": "markdown",
   "id": "695935b7",
   "metadata": {},
   "source": [
    "# Accessing NOAA Remote Data Files"
   ]
  },
  {
   "cell_type": "markdown",
   "id": "42b450ba",
   "metadata": {},
   "source": [
    "#### The description of the available data is at:\n",
    "\n",
    "- [NOAA Geostationary Operational Environmental Satellites (GOES) 16, 17 & 18](https://registry.opendata.aws/noaa-goes/)\n",
    "- [NOAA GOES on AWS](https://github.com/awslabs/open-data-docs/tree/main/docs/noaa/noaa-goes16)\n",
    "\n",
    "#### To explore the data:\n",
    "\n",
    "- [AWS S3 Explorer](https://noaa-goes18.s3.amazonaws.com/index.html)"
   ]
  },
  {
   "cell_type": "code",
   "execution_count": null,
   "id": "33f40463",
   "metadata": {},
   "outputs": [],
   "source": [
    "import warnings\n",
    "warnings.filterwarnings('ignore')"
   ]
  },
  {
   "cell_type": "code",
   "execution_count": null,
   "id": "cbb05fe2",
   "metadata": {},
   "outputs": [],
   "source": [
    "import requests\n",
    "import os"
   ]
  },
  {
   "cell_type": "code",
   "execution_count": null,
   "id": "087db48a",
   "metadata": {},
   "outputs": [],
   "source": [
    "import numpy as np\n",
    "import netCDF4 as nc4\n",
    "import xarray as xr"
   ]
  },
  {
   "cell_type": "code",
   "execution_count": null,
   "id": "10afc6a7",
   "metadata": {},
   "outputs": [],
   "source": [
    "file_name_url = \"https://noaa-goes18.s3.amazonaws.com/ABI-L2-ACHTF/2022/365/14/OR_ABI-L2-ACHTF-M6_G18_s20223651450209_e20223651459517_c20223651502351.nc\"\n",
    "file_name = os.path.basename(file_name_url)"
   ]
  },
  {
   "cell_type": "code",
   "execution_count": null,
   "id": "c7fa52bc",
   "metadata": {},
   "outputs": [],
   "source": [
    "resp = requests.get(file_name_url)"
   ]
  },
  {
   "cell_type": "code",
   "execution_count": null,
   "id": "daf50fe1",
   "metadata": {},
   "outputs": [],
   "source": [
    "file_name = \"OR_ABI-L2-ACHTF-M6_G18_s20223651450209_e20223651459517_c20223651502351.nc\"\n",
    "\n",
    "nc4_ds = nc4.Dataset(file_name, memory = resp.content)\n",
    "store = xr.backends.NetCDF4DataStore(nc4_ds)\n",
    "xr_ds = xr.open_dataset(store)"
   ]
  },
  {
   "cell_type": "code",
   "execution_count": null,
   "id": "c0f2e583",
   "metadata": {},
   "outputs": [],
   "source": [
    "xr_ds"
   ]
  },
  {
   "cell_type": "code",
   "execution_count": null,
   "id": "06e150c6",
   "metadata": {},
   "outputs": [],
   "source": []
  }
 ],
 "metadata": {
  "kernelspec": {
   "display_name": "Python 3 (ipykernel)",
   "language": "python",
   "name": "python3"
  },
  "language_info": {
   "codemirror_mode": {
    "name": "ipython",
    "version": 3
   },
   "file_extension": ".py",
   "mimetype": "text/x-python",
   "name": "python",
   "nbconvert_exporter": "python",
   "pygments_lexer": "ipython3",
   "version": "3.8.2"
  },
  "varInspector": {
   "cols": {
    "lenName": 16,
    "lenType": 16,
    "lenVar": 40
   },
   "kernels_config": {
    "python": {
     "delete_cmd_postfix": "",
     "delete_cmd_prefix": "del ",
     "library": "var_list.py",
     "varRefreshCmd": "print(var_dic_list())"
    },
    "r": {
     "delete_cmd_postfix": ") ",
     "delete_cmd_prefix": "rm(",
     "library": "var_list.r",
     "varRefreshCmd": "cat(var_dic_list()) "
    }
   },
   "types_to_exclude": [
    "module",
    "function",
    "builtin_function_or_method",
    "instance",
    "_Feature"
   ],
   "window_display": false
  }
 },
 "nbformat": 4,
 "nbformat_minor": 5
}
